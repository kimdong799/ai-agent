{
 "cells": [
  {
   "cell_type": "markdown",
   "metadata": {},
   "source": [
    "# API Key 설정"
   ]
  },
  {
   "cell_type": "code",
   "execution_count": 6,
   "metadata": {},
   "outputs": [
    {
     "data": {
      "text/plain": [
       "True"
      ]
     },
     "execution_count": 6,
     "metadata": {},
     "output_type": "execute_result"
    }
   ],
   "source": [
    "import dotenv\n",
    "dotenv.load_dotenv()"
   ]
  },
  {
   "cell_type": "markdown",
   "metadata": {},
   "source": [
    "# Build a Basic Chatbot"
   ]
  },
  {
   "cell_type": "markdown",
   "metadata": {},
   "source": [
    "- `State` 클래스는 LangGraph에서 공유되는 상태(State)의 스키마(type 정의)를 담당한다.\n",
    "- 즉, 각 노드(node)간 전달되는 데이터의 구조를 명시하는 역할을 한다.\n",
    "- 아래의 경우 `state[\"messages\"] = [Message1, Message2, ...]` 처럼 메세지를 담은 리스트를 상태로 유지하게 된다.\n",
    "- `StateGraph`는 LangGraph 프레임워크의 핵심 객체 중 하나로, **상태 기반**으로 동작하는 LLM 에이전트 워크플로우를 만들기 위해 사용한다.\n",
    "- `StateGraph`는 LangGraph에서 여러 노드(node) 상태(state)를 기반으로 연결해주는 그래프이다.\n",
    "- LLM 에이전트들이 어떤 순서로 동작하고, 무엇을 공유할지 정의한다."
   ]
  },
  {
   "cell_type": "code",
   "execution_count": 10,
   "metadata": {},
   "outputs": [],
   "source": [
    "from typing import Annotated\n",
    "from typing_extensions import TypedDict\n",
    "from langgraph.graph import StateGraph, START, END\n",
    "from langgraph.graph.message import add_messages\n",
    "\n",
    "class State(TypedDict):\n",
    "    # Messages have the type \"list\". The `add_messages` function\n",
    "    # in the annotation defines how this state key should be updated\n",
    "    # (in this case, it appends messages to the list, rather than overwriting them)\n",
    "    messages: Annotated[list, add_messages] #List 타입에 add_messages라는 상태 업데이트 전략을 붙임\n",
    "\n",
    "graph_builder = StateGraph(State)"
   ]
  },
  {
   "cell_type": "code",
   "execution_count": 7,
   "metadata": {},
   "outputs": [],
   "source": [
    "from langchain_openai import ChatOpenAI\n",
    "\n",
    "llm = ChatOpenAI(\n",
    "    model=\"gpt-3.5-turbo\",\n",
    "    temperature=0,\n",
    ")"
   ]
  },
  {
   "cell_type": "code",
   "execution_count": 11,
   "metadata": {},
   "outputs": [
    {
     "data": {
      "text/plain": [
       "<langgraph.graph.state.StateGraph at 0x10faae5d0>"
      ]
     },
     "execution_count": 11,
     "metadata": {},
     "output_type": "execute_result"
    }
   ],
   "source": [
    "def chatbot(state: State):\n",
    "    return {\"messages\": [llm.invoke(state[\"messages\"])]}\n",
    "\n",
    "# 첫번째 인자는 unique node명\n",
    "# 두번째 인자는 언제든 호출될 수 있는 함수 혹은 객체\n",
    "graph_builder.add_node(\"chatbot\", chatbot)"
   ]
  },
  {
   "cell_type": "markdown",
   "metadata": {},
   "source": [
    "- 챗봇 노드 함수가 현재 상태(State)를 입력으로 받아들이고, \"messages\"라는 키 아래에 업데이트된 메세지 목록을 포함하는 딕셔너리를 반환"
   ]
  },
  {
   "cell_type": "markdown",
   "metadata": {},
   "source": [
    "## 진입점 추가(Entry Point)\n",
    "- 그래프가 매번 실행될 때 어디에서 작업을 시작할지 지정"
   ]
  },
  {
   "cell_type": "code",
   "execution_count": 12,
   "metadata": {},
   "outputs": [
    {
     "data": {
      "text/plain": [
       "<langgraph.graph.state.StateGraph at 0x10faae5d0>"
      ]
     },
     "execution_count": 12,
     "metadata": {},
     "output_type": "execute_result"
    }
   ],
   "source": [
    "graph_builder.add_edge(START, \"chatbot\")"
   ]
  },
  {
   "cell_type": "markdown",
   "metadata": {},
   "source": [
    "## 종료 지점 추가(Finish Point)\n",
    "- 그래프에게 \"이 노드가 실행될 떄마다, 여기서 종료할 수 있다\"는 지시 추가"
   ]
  },
  {
   "cell_type": "code",
   "execution_count": 13,
   "metadata": {},
   "outputs": [
    {
     "data": {
      "text/plain": [
       "<langgraph.graph.state.StateGraph at 0x10faae5d0>"
      ]
     },
     "execution_count": 13,
     "metadata": {},
     "output_type": "execute_result"
    }
   ],
   "source": [
    "graph_builder.add_edge(\"chatbot\", END)"
   ]
  },
  {
   "cell_type": "markdown",
   "metadata": {},
   "source": [
    "## Compile Graph"
   ]
  },
  {
   "cell_type": "code",
   "execution_count": null,
   "metadata": {},
   "outputs": [],
   "source": [
    "# 실행 가능한 compiled graph 생성\n",
    "graph = graph_builder.compile()"
   ]
  },
  {
   "cell_type": "markdown",
   "metadata": {},
   "source": [
    "## graph 시각화"
   ]
  },
  {
   "cell_type": "code",
   "execution_count": 16,
   "metadata": {},
   "outputs": [
    {
     "data": {
      "image/png": "[encoded data removed]",
      "text/plain": [
       "<langgraph.graph.state.CompiledStateGraph object at 0x10ecb1700>"
      ]
     },
     "execution_count": 16,
     "metadata": {},
     "output_type": "execute_result"
    }
   ],
   "source": [
    "graph"
   ]
  },
  {
   "cell_type": "markdown",
   "metadata": {},
   "source": [
    "## 챗봇 실행 테스트\n",
    "- \"quit\", \"exit\", \"q\"를 입력하면 채팅 루프 종료 가능"
   ]
  },
  {
   "cell_type": "code",
   "execution_count": 20,
   "metadata": {},
   "outputs": [
    {
     "name": "stdout",
     "output_type": "stream",
     "text": [
      "Assistant: Hello Kim! How can I assist you today?\n",
      "Assistant: I'm sorry, I do not know your name as I am an AI assistant and do not have access to personal information.\n",
      "Goodbye!\n"
     ]
    }
   ],
   "source": [
    "while True:\n",
    "    user_input = input(\"User: \")\n",
    "    if user_input.lower() in [\"quit\", \"exit\", \"q\"]:\n",
    "        print(\"Goodbye!\")\n",
    "        break\n",
    "    for event in graph.stream({\"messages\": (\"user\", user_input)}):\n",
    "        for value in event.values():\n",
    "            print(\"Assistant:\", value[\"messages\"][-1].content)"
   ]
  },
  {
   "cell_type": "markdown",
   "metadata": {},
   "source": [
    "# Part 2: Enhancing the Chatbot with Tools\n",
    "- Part 1의 경우 `add_messages`를 통해 단순히 메세지 히스토리를 추가했다면,\n",
    "- Part 2는 웹 검색 도구를 통합"
   ]
  },
  {
   "cell_type": "code",
   "execution_count": 21,
   "metadata": {},
   "outputs": [
    {
     "data": {
      "text/plain": [
       "\"Langraph: nodes, states, and edges. At the heart of LangGraph is the concept of a stateful graph:. State: Represents the context or memory that is maintained and updated as the computation ... LangGraph is a message-passing framework for building modular, graph-based systems. At its core, it focuses on communication between nodes via structured states and logical edges, enabling a ... In LangGraph, each node represents an LLM agent, and the edges are the communication channels between these agents. This structure allows for clear and manageable workflows, where each agent performs specific tasks and passes information to other agents as needed. State management. One of LangGraph's standout features is its automatic state ... LangGraph is a powerful tool that allows you to structure your JavaScript or TypeScript applications (including AI agent workflows) as a graph of interconnected computations. ... Nodes: node1 ... Nodes represent units of work within LangGraph. Each graph node is a Python function that performs a specific task like calling an API, processing data, or running an AI model. They can act as: Tool nodes - Execute API calls, retrieve data, or integrate external tools. LLM interaction nodes - Generate responses, summarize content, or ...\""
      ]
     },
     "execution_count": 21,
     "metadata": {},
     "output_type": "execute_result"
    }
   ],
   "source": [
    "from langchain_community.tools import DuckDuckGoSearchRun\n",
    "\n",
    "tool = DuckDuckGoSearchRun()\n",
    "tools = [tool]\n",
    "tool.invoke(\"What's a 'node' in LangGraph?\")"
   ]
  },
  {
   "cell_type": "code",
   "execution_count": 22,
   "metadata": {},
   "outputs": [
    {
     "data": {
      "text/plain": [
       "<langgraph.graph.state.StateGraph at 0x10fb6c170>"
      ]
     },
     "execution_count": 22,
     "metadata": {},
     "output_type": "execute_result"
    }
   ],
   "source": [
    "from typing import Annotated\n",
    "from langchain_openai import ChatOpenAI\n",
    "from typing_extensions import TypedDict\n",
    "from langgraph.graph import StateGraph, START\n",
    "from langgraph.graph.message import add_messages\n",
    "\n",
    "class State(TypedDict):\n",
    "    messages: Annotated[list, add_messages]\n",
    "\n",
    "graph_builder = StateGraph(State)\n",
    "\n",
    "llm = ChatOpenAI(\n",
    "    model=\"gpt-3.5-turbo\",\n",
    "    temperature=0,\n",
    ")\n",
    "\n",
    "# 도구 사용이 가능하다는 정보만 제공\n",
    "# tool 호출 여부는 LLM이 결정\n",
    "llm_with_tools = llm.bind_tools(tools)\n",
    "\n",
    "def chatbot(state: State):\n",
    "    return {\"messages\": [llm_with_tools.invoke(state[\"messages\"])]}\n",
    "\n",
    "graph_builder.add_node(\"chatbot\", chatbot)"
   ]
  },
  {
   "cell_type": "markdown",
   "metadata": {},
   "source": [
    "## BasicToolNode"
   ]
  },
  {
   "cell_type": "code",
   "execution_count": 24,
   "metadata": {},
   "outputs": [
    {
     "data": {
      "text/plain": [
       "<langgraph.graph.state.StateGraph at 0x10fb6c170>"
      ]
     },
     "execution_count": 24,
     "metadata": {},
     "output_type": "execute_result"
    }
   ],
   "source": [
    "import json\n",
    "from typing import List\n",
    "from langchain_core.messages import ToolMessage\n",
    "\n",
    "# BasicToolNode는 AIMessage에 포함된 tool_calls 정보를 읽고,\n",
    "# 실제 해당 tool을 실행한 뒤 -> ToolMessage로 만들어 반환하는 역할\n",
    "class BasicToolNode:\n",
    "    \"\"\"A node that runs the tools requested in tha last AIMessage.\"\"\"\n",
    "\n",
    "    # tool 리스트를 받아서 `이름: 툴객체` 형태의 딕셔너리로 정리\n",
    "    # 나중에 AI가 호출한 tool 이름을 기준으로 실행할 수 있게 준비\n",
    "    def __init__(self, tools: List) -> None:\n",
    "        self.tools_by_name = {tool.name: tool for tool in tools}\n",
    "\n",
    "    # LangGraph 노드 형태로 사용됨 (__call__ = 노드 실행 진입점)\n",
    "    # 가장 마지막 메세지에서 tool_calls 추출   \n",
    "    def __call__(self, inputs: dict):\n",
    "        if messages := inputs.get(\"messages\", []):\n",
    "            messages = messages[-1]\n",
    "        else:\n",
    "            raise ValueError(\"No message found in input\")\n",
    "        outputs = []\n",
    "\n",
    "        # 실제 tool을 호출 실행하는 부분\n",
    "        for tool_call in messages.tool_calls:\n",
    "            tool_result = self.tools_by_name[tool_call[\"name\"]].invoke(\n",
    "                tool_call[\"args\"]\n",
    "            )\n",
    "            outputs.append(\n",
    "                ToolMessage(\n",
    "                    content=json.dumps(tool_result),\n",
    "                    name=tool_call[\"name\"],\n",
    "                    tool_call_id=tool_call[\"id\"],\n",
    "                )\n",
    "            )\n",
    "        # 결과를 ToolMessage 형태로 반환\n",
    "        return {\"messages\": outputs}\n",
    "\n",
    "tool_node = BasicToolNode(tools=[tool])\n",
    "graph_builder.add_node(\"tools\", tool_node)"
   ]
  },
  {
   "cell_type": "markdown",
   "metadata": {},
   "source": [
    "## Tool Condition 설정"
   ]
  },
  {
   "cell_type": "markdown",
   "metadata": {},
   "source": [
    "- LangGraph에서 Tool 사용을 조건적으로 분기 처리하는 완성된 그래프 구성\n",
    "- LLM이 tool을 호출했는지 아닌지에 따라 흐름을 다르게 제어"
   ]
  },
  {
   "cell_type": "markdown",
   "metadata": {},
   "source": [
    "\"\"\"[START]\n",
    "   ↓\n",
    "[chatbot] --(tool_call 존재)--> [tools] --→ [chatbot] (재진입)\n",
    "   └──────(없음)────────────→ [END]\"\"\""
   ]
  },
  {
   "cell_type": "code",
   "execution_count": 26,
   "metadata": {},
   "outputs": [],
   "source": [
    "from typing import Literal\n",
    "\n",
    "# LLM의 마지막 응답 메세지를 보고, tool_call이 있으면 -> tools\n",
    "# 없으면 __end__ 로 흐름 제어\n",
    "def route_tools(\n",
    "    state: State,\n",
    ") -> Literal[\"tools\", \"__end__\"]:\n",
    "    \"\"\"\n",
    "    Use in the conditional_edge to route to the ToolNode if the last message\n",
    "    has tool calls. Otherwise, route to the end.\n",
    "    \"\"\"\n",
    "    if isinstance(state, list):\n",
    "        ai_message = state[-1]\n",
    "    # 가장 마지막 메세지에 tool_calls 속성을 가지고 있고, 1개 이상이면 \"tools\"로 라우팅\n",
    "    elif messages := state.get(\"messages\", []):\n",
    "        ai_message = messages[-1]\n",
    "    else:\n",
    "        raise ValueError(f\"No messages found in input state to tool_edge: {state}\")\n",
    "    if hasattr(ai_message, \"tool_calls\") and len(ai_message.tool_calls) > 0:\n",
    "        return \"tools\"\n",
    "    return \"__end__\"\n",
    "\n",
    "graph_builder.add_conditional_edges(\n",
    "    \"chatbot\",\n",
    "    route_tools, # route_tools의 리턴 값에 따라 다음 노드 분기\n",
    "    {\"tools\": \"tools\", \"__end__\": \"__end__\"},\n",
    ")\n",
    "\n",
    "graph_builder.add_edge(\"tools\", \"chatbot\")\n",
    "graph_builder.add_edge(START, \"chatbot\")\n",
    "graph = graph_builder.compile()"
   ]
  },
  {
   "cell_type": "code",
   "execution_count": 27,
   "metadata": {},
   "outputs": [
    {
     "data": {
      "image/png": "[encoded data removed]",
      "text/plain": [
       "<langgraph.graph.state.CompiledStateGraph object at 0x10fb31700>"
      ]
     },
     "execution_count": 27,
     "metadata": {},
     "output_type": "execute_result"
    }
   ],
   "source": [
    "graph"
   ]
  },
  {
   "cell_type": "code",
   "execution_count": 30,
   "metadata": {},
   "outputs": [
    {
     "name": "stdout",
     "output_type": "stream",
     "text": [
      "Assistant: \n",
      "Assistant: \"\\uc724\\uc11d\\uc5f4 \\ub300\\ud1b5\\ub839 \\ud0c4\\ud575\\uc18c\\ucd94\\uc548\\uc5d0 \\ub300\\ud55c \\ud5cc\\ubc95\\uc7ac\\ud310\\uc18c\\uc758 \\uc120\\uace0 \\uc694\\uc9c0\\uc640 \\uacb0\\uc815\\ubb38\\uc744 \\ubcf4\\uae30 \\uc27d\\uac8c \\uc815\\ub9ac\\ud588\\uc2b5\\ub2c8\\ub2e4. \\ud0c4\\ud575 \\uc18c\\ucd94\\uc758 \\uc801\\ubc95 \\uc5ec\\ubd80\\uc640 \\ud5cc\\ubc95 \\ubc0f \\ubc95\\ub960 \\uc704\\ubc30 \\ud589\\uc704\\uc5d0 \\ub300\\ud55c \\ud310\\ub2e8, \\ub9c8\\uc9c0\\ub9c9\\uc73c\\ub85c \\ud0c4\\ud575 \\ud0c0\\ub2f9\\uc131\\uae4c\\uc9c0 \\uc8fc\\uc694 \\ud56d\\ubaa9\\ubcc4\\ub85c \\ud55c\\ub208\\uc5d0 \\ud750\\ub984\\uc744 \\uc774\\ud574\\ud558\\uc2e4 \\uc218 \\uc788\\ub3c4\\ub85d \\uad6c\\uc131\\ud588\\uc2b5\\ub2c8\\ub2e4. \\ud5cc\\ubc95\\uc7ac\\ud310\\uc18c\\uac00 \\uad6d\\ud68c\\uc758 \\ud0c4\\ud575\\uc18c\\ucd94 \\uccad\\uad6c\\ub97c \\uc778\\uc6a9\\ud558\\uba74 \\uc724 \\ub300\\ud1b5\\ub839\\uc740 \\ubc15\\uadfc\\ud61c \\uc804 \\ub300\\ud1b5\\ub839\\uc5d0 \\uc774\\uc5b4 \\uc784\\uae30 \\uc911 \\ud30c\\uba74\\ub418\\ub294 \\ub450 \\ubc88\\uc9f8 \\ub300\\ud1b5\\ub839\\uc73c\\ub85c \\uae30\\ub85d\\ub41c\\ub2e4. \\uc724 \\ub300\\ud1b5\\ub839 \\ud0c4\\ud575\\uc548\\uc740 \\uc774\\ub0a0 \\uc624\\ud6c4 4\\uc2dc \\ubcf8\\ud68c\\uc758\\uc5d0\\uc11c \\uc7ac\\uc801 \\uc758\\uc6d0 300\\uba85 \\uc911 300\\uba85 \\uc804\\uc6d0\\uc774 \\ucc38\\uc11d\\ud55c \\uac00\\uc6b4\\ub370 \\ucc2c\\uc131 204\\ud45c, \\ubc18\\ub300 85\\ud45c, \\uae30\\uad8c 3\\ud45c, \\ubb34\\ud6a8 8\\ud45c\\ub85c \\uac00\\uacb0\\ub410\\ub2e4. \\ud0c4\\ud575\\uc548\\uc774 \\uac00\\uacb0\\ub418\\ub824\\uba74 \\uc7ac\\uc801\\uc758\\uc6d0\\uc758 3\\ubd84\\uc758 2 (200\\uba85)\\uac00 \\ucc2c\\uc131\\ud574\\uc57c \\ud558\\ub294\\ub370, 204\\uba85\\uc758 \\ucc2c\\uc131\\uc73c\\ub85c \\uac00\\uacb0 \\uc815\\uc871\\uc218\\ub97c \\ub118\\uacbc\\ub2e4. \\ubc94\\uc57c\\uad8c 192\\uba85\\uc774 \\ud0c4\\ud575 \\ucc2c\\uc131 \\uc758\\uc0ac\\ub97c \\ubc1d\\ud78c \\uc810\\uc744 \\uace0\\ub824\\ud558\\uba74, '\\ubd80\\uacb0 \\ub2f9\\ub860'\\uc744 \\uc720\\uc9c0\\ud55c \\uad6d\\ubbfc\\uc758\\ud798\\uc5d0\\uc11c '\\ucc2c\\uc131' \\uc774\\ud0c8\\ud45c\\uac00 12\\ud45c \\ub098\\uc628 \\uac83\\uc73c\\ub85c \\ubcf4\\uc778\\ub2e4. \\uae30\\uad8c \\ubc0f \\ubb34\\ud6a8\\ud45c 11\\uba85\\ub3c4 \\uad6d\\ubbfc\\uc758\\ud798\\uc5d0\\uc11c \\ub098\\uc628 \\uac83\\uc73c\\ub85c \\ucd94\\uc815\\ub41c\\ub2e4. \\ud5cc\\ubc95\\uc7ac\\ud310\\uc18c\\uac00 4\\uc77c \\uc624\\uc804, \\uc7ac\\ud310\\uad00 \\uc804\\uc6d0\\uc77c\\uce58\\ub85c \\ud0c4\\ud575\\uc18c\\ucd94\\ub97c \\uc778\\uc6a9\\ud558\\uba74\\uc11c \\uc724\\uc11d\\uc5f4 \\uc804 \\ub300\\ud1b5\\ub839\\uc740 8\\ub144 \\ub9cc\\uc5d0, \\ud5cc\\uc815\\uc0ac\\uc0c1 \\ub450 \\ubc88\\uc9f8 \\ub300\\ud1b5\\ub839 \\ud30c\\uba74\\uc774\\ub77c\\ub294 \\ubd88\\uba85\\uc608 ... \\uc724\\uc11d\\uc5f4 \\ub300\\ud1b5\\ub839 \\ud0c4\\ud575\\uc18c\\ucd94\\uc548\\uc774 14\\uc77c \\uad6d\\ud68c\\uc5d0\\uc11c \\uac00\\uacb0\\ub410\\ub2e4. \\ud604\\uc9c1 \\ub300\\ud1b5\\ub839\\uc758 \\ud0c4\\ud575\\uc548 \\uac00\\uacb0\\uc740 \\ub178\\ubb34\\ud604\\u00b7\\ubc15\\uadfc\\ud61c \\uc804 \\ub300\\ud1b5\\ub839\\uc5d0 \\uc774\\uc5b4 3\\ubc88\\uc9f8\\ub2e4. \\uad6d\\ud68c\\ub294 \\uc774\\ub0a0 \\uc624\\ud6c4 4\\uc2dc \\ubcf8\\ud68c\\uc758\\ub97c \\uc5f4\\uc5b4, \\ub354\\ubd88\\uc5b4\\ubbfc\\uc8fc\\ub2f9 \\ub4f1 \\uc57c 6\\ub2f9\\uc774 \\uc9c0\\ub09c 12\\uc77c \\ubc1c\\uc758\\ud55c \\uc724 \\ub300\\ud1b5\\ub839 \\ud0c4\\ud575\\uc548\\uc744 \\ucc2c\\uc131 204\\ud45c, \\ubc18\\ub300 85\\ud45c, \\ubb34\\ud6a8 8, \\uae30\\uad8c 3\\ud45c\\ub85c \\ud1b5\\uacfc\\uc2dc\\ucf30\\ub2e4. \\uad6d\\ubbfc\\uc758\\ud798 '\\ud0c4\\ud575 \\ubc18\\ub300 \\ub2f9\\ub860' \\uc774\\ud0c8\\uc740... \\uc724\\uc11d\\uc5f4 \\ub300\\ud1b5\\ub839\\uc740 14\\uc77c \\uad6d\\ud68c \\ud0c4\\ud575\\uc18c\\ucd94\\uc548 \\uac00\\uacb0\\uc5d0 \\ub530\\ub77c \\ub300\\ud1b5\\ub839 \\uc9c1\\ubb34\\ub97c \\uc815\\uc9c0 \\ub2f9\\ud588\\ub2e4. 2022\\ub144 5\\uc6d410\\uc77c 20\\ub300 \\ub300\\ud1b5\\ub839\\uc5d0 \\ucde8\\uc784\\ud55c \\uc774\\ud6c4 949\\uc77c\\ub9cc\\uc73c\\ub85c, \\uc784\\uae30 \\ubc18\\ud658\\uc810\\uc744 \\ud55c \\ub2ec \\ub118\\uae34 \\uc2dc\\uc810\\uc774\\ub2e4. \\ud5a5\\ud6c4 \\ub0b4\\ub780\\uc8c4 \\ud53c\\uc758\\uc790\\ub85c\\uc11c \\ud5cc\\ubc95\\uc7ac\\ud310\\uc18c \\uacb0\\uc815\\uc744 \\uae30\\ub2e4\\ub9ac\\uba70 \\uc218\\uc0ac \\ub300\\ube44\\uc5d0 \\uc9d1\\uc911\\ud560 \\uac83\\uc73c\\ub85c ...\"\n",
      "Assistant: 윤석열 대통령이 탄핵되었습니다. 윤석열 대통령은 14일 국회에서 탄핵되었으며, 탄핵 결정은 국회의원 204명 중 204명이 찬성했고, 반대는 85명, 기권은 3명, 무효 8명으로 이루어졌습니다. 국회는 이에 따라 윤석열 대통령을 탄핵하였습니다.\n",
      "Goodbye!\n"
     ]
    }
   ],
   "source": [
    "# 테스트 프롬프트 : what's langgraph all about?\n",
    "\n",
    "from langchain_core.messages import BaseMessage\n",
    "\n",
    "while True:\n",
    "    user_input = input(\"User: \")\n",
    "    if user_input.lower() in [\"quit\", \"exit\", \"q\"]:\n",
    "        print(\"Goodbye!\")\n",
    "        break\n",
    "    for event in graph.stream({\"messages\": [(\"user\", user_input)]}):\n",
    "        for value in event.values():\n",
    "            if isinstance(value[\"messages\"][-1], BaseMessage):\n",
    "                print(\"Assistant:\", value[\"messages\"][-1].content)"
   ]
  }
 ],
 "metadata": {
  "kernelspec": {
   "display_name": "ai-agent-W5GxBq27-py3.12",
   "language": "python",
   "name": "python3"
  },
  "language_info": {
   "codemirror_mode": {
    "name": "ipython",
    "version": 3
   },
   "file_extension": ".py",
   "mimetype": "text/x-python",
   "name": "python",
   "nbconvert_exporter": "python",
   "pygments_lexer": "ipython3",
   "version": "3.12.4"
  }
 },
 "nbformat": 4,
 "nbformat_minor": 2
}
