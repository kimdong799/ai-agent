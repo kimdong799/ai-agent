{
 "cells": [
  {
   "cell_type": "code",
   "execution_count": 1,
   "metadata": {},
   "outputs": [
    {
     "name": "stdout",
     "output_type": "stream",
     "text": [
      "Requirement already satisfied: langchain in /Users/kimdonghyeon/Library/Caches/pypoetry/virtualenvs/ai-agent-W5GxBq27-py3.12/lib/python3.12/site-packages (0.3.23)\n",
      "Requirement already satisfied: langchain_openai in /Users/kimdonghyeon/Library/Caches/pypoetry/virtualenvs/ai-agent-W5GxBq27-py3.12/lib/python3.12/site-packages (0.3.12)\n",
      "Requirement already satisfied: langsmith in /Users/kimdonghyeon/Library/Caches/pypoetry/virtualenvs/ai-agent-W5GxBq27-py3.12/lib/python3.12/site-packages (0.3.30)\n",
      "Collecting pandas\n",
      "  Downloading pandas-2.2.3-cp312-cp312-macosx_11_0_arm64.whl.metadata (89 kB)\n",
      "\u001b[2K     \u001b[90m━━━━━━━━━━━━━━━━━━━━━━━━━━━━━━━━━━━━━━━━\u001b[0m \u001b[32m89.9/89.9 kB\u001b[0m \u001b[31m4.4 MB/s\u001b[0m eta \u001b[36m0:00:00\u001b[0m\n",
      "\u001b[?25hCollecting langchain_experimental\n",
      "  Downloading langchain_experimental-0.3.4-py3-none-any.whl.metadata (1.7 kB)\n",
      "Collecting matplotlib\n",
      "  Downloading matplotlib-3.10.1-cp312-cp312-macosx_11_0_arm64.whl.metadata (11 kB)\n",
      "Requirement already satisfied: langgraph in /Users/kimdonghyeon/Library/Caches/pypoetry/virtualenvs/ai-agent-W5GxBq27-py3.12/lib/python3.12/site-packages (0.3.29)\n",
      "Requirement already satisfied: langchain_core in /Users/kimdonghyeon/Library/Caches/pypoetry/virtualenvs/ai-agent-W5GxBq27-py3.12/lib/python3.12/site-packages (0.3.51)\n",
      "Requirement already satisfied: duckduckgo-search in /Users/kimdonghyeon/Library/Caches/pypoetry/virtualenvs/ai-agent-W5GxBq27-py3.12/lib/python3.12/site-packages (8.0.0)\n",
      "Requirement already satisfied: langchain-community in /Users/kimdonghyeon/Library/Caches/pypoetry/virtualenvs/ai-agent-W5GxBq27-py3.12/lib/python3.12/site-packages (0.3.21)\n",
      "Collecting chromadb\n",
      "  Downloading chromadb-1.0.6-cp39-abi3-macosx_11_0_arm64.whl.metadata (6.9 kB)\n",
      "Requirement already satisfied: langchain-text-splitters<1.0.0,>=0.3.8 in /Users/kimdonghyeon/Library/Caches/pypoetry/virtualenvs/ai-agent-W5GxBq27-py3.12/lib/python3.12/site-packages (from langchain) (0.3.8)\n",
      "Requirement already satisfied: pydantic<3.0.0,>=2.7.4 in /Users/kimdonghyeon/Library/Caches/pypoetry/virtualenvs/ai-agent-W5GxBq27-py3.12/lib/python3.12/site-packages (from langchain) (2.11.3)\n",
      "Requirement already satisfied: SQLAlchemy<3,>=1.4 in /Users/kimdonghyeon/Library/Caches/pypoetry/virtualenvs/ai-agent-W5GxBq27-py3.12/lib/python3.12/site-packages (from langchain) (2.0.40)\n",
      "Requirement already satisfied: requests<3,>=2 in /Users/kimdonghyeon/Library/Caches/pypoetry/virtualenvs/ai-agent-W5GxBq27-py3.12/lib/python3.12/site-packages (from langchain) (2.32.3)\n",
      "Requirement already satisfied: PyYAML>=5.3 in /Users/kimdonghyeon/Library/Caches/pypoetry/virtualenvs/ai-agent-W5GxBq27-py3.12/lib/python3.12/site-packages (from langchain) (6.0.2)\n",
      "Requirement already satisfied: openai<2.0.0,>=1.68.2 in /Users/kimdonghyeon/Library/Caches/pypoetry/virtualenvs/ai-agent-W5GxBq27-py3.12/lib/python3.12/site-packages (from langchain_openai) (1.73.0)\n",
      "Requirement already satisfied: tiktoken<1,>=0.7 in /Users/kimdonghyeon/Library/Caches/pypoetry/virtualenvs/ai-agent-W5GxBq27-py3.12/lib/python3.12/site-packages (from langchain_openai) (0.9.0)\n",
      "Requirement already satisfied: httpx<1,>=0.23.0 in /Users/kimdonghyeon/Library/Caches/pypoetry/virtualenvs/ai-agent-W5GxBq27-py3.12/lib/python3.12/site-packages (from langsmith) (0.28.1)\n",
      "Requirement already satisfied: orjson<4.0.0,>=3.9.14 in /Users/kimdonghyeon/Library/Caches/pypoetry/virtualenvs/ai-agent-W5GxBq27-py3.12/lib/python3.12/site-packages (from langsmith) (3.10.16)\n",
      "Requirement already satisfied: packaging>=23.2 in /Users/kimdonghyeon/Library/Caches/pypoetry/virtualenvs/ai-agent-W5GxBq27-py3.12/lib/python3.12/site-packages (from langsmith) (24.2)\n",
      "Requirement already satisfied: requests-toolbelt<2.0.0,>=1.0.0 in /Users/kimdonghyeon/Library/Caches/pypoetry/virtualenvs/ai-agent-W5GxBq27-py3.12/lib/python3.12/site-packages (from langsmith) (1.0.0)\n",
      "Requirement already satisfied: zstandard<0.24.0,>=0.23.0 in /Users/kimdonghyeon/Library/Caches/pypoetry/virtualenvs/ai-agent-W5GxBq27-py3.12/lib/python3.12/site-packages (from langsmith) (0.23.0)\n",
      "Requirement already satisfied: numpy>=1.26.0 in /Users/kimdonghyeon/Library/Caches/pypoetry/virtualenvs/ai-agent-W5GxBq27-py3.12/lib/python3.12/site-packages (from pandas) (2.2.4)\n",
      "Requirement already satisfied: python-dateutil>=2.8.2 in /Users/kimdonghyeon/Library/Caches/pypoetry/virtualenvs/ai-agent-W5GxBq27-py3.12/lib/python3.12/site-packages (from pandas) (2.9.0.post0)\n",
      "Collecting pytz>=2020.1 (from pandas)\n",
      "  Downloading pytz-2025.2-py2.py3-none-any.whl.metadata (22 kB)\n",
      "Collecting tzdata>=2022.7 (from pandas)\n",
      "  Downloading tzdata-2025.2-py2.py3-none-any.whl.metadata (1.4 kB)\n",
      "Collecting contourpy>=1.0.1 (from matplotlib)\n",
      "  Downloading contourpy-1.3.2-cp312-cp312-macosx_11_0_arm64.whl.metadata (5.5 kB)\n",
      "Collecting cycler>=0.10 (from matplotlib)\n",
      "  Downloading cycler-0.12.1-py3-none-any.whl.metadata (3.8 kB)\n",
      "Collecting fonttools>=4.22.0 (from matplotlib)\n",
      "  Downloading fonttools-4.57.0-cp312-cp312-macosx_10_13_universal2.whl.metadata (102 kB)\n",
      "\u001b[2K     \u001b[90m━━━━━━━━━━━━━━━━━━━━━━━━━━━━━━━━━━━━━━━\u001b[0m \u001b[32m102.5/102.5 kB\u001b[0m \u001b[31m9.0 MB/s\u001b[0m eta \u001b[36m0:00:00\u001b[0m\n",
      "\u001b[?25hCollecting kiwisolver>=1.3.1 (from matplotlib)\n",
      "  Downloading kiwisolver-1.4.8-cp312-cp312-macosx_11_0_arm64.whl.metadata (6.2 kB)\n",
      "Collecting pillow>=8 (from matplotlib)\n",
      "  Downloading pillow-11.2.1-cp312-cp312-macosx_11_0_arm64.whl.metadata (8.9 kB)\n",
      "Collecting pyparsing>=2.3.1 (from matplotlib)\n",
      "  Downloading pyparsing-3.2.3-py3-none-any.whl.metadata (5.0 kB)\n",
      "Requirement already satisfied: langgraph-checkpoint<3.0.0,>=2.0.10 in /Users/kimdonghyeon/Library/Caches/pypoetry/virtualenvs/ai-agent-W5GxBq27-py3.12/lib/python3.12/site-packages (from langgraph) (2.0.24)\n",
      "Requirement already satisfied: langgraph-prebuilt<0.2,>=0.1.1 in /Users/kimdonghyeon/Library/Caches/pypoetry/virtualenvs/ai-agent-W5GxBq27-py3.12/lib/python3.12/site-packages (from langgraph) (0.1.8)\n",
      "Requirement already satisfied: langgraph-sdk<0.2.0,>=0.1.42 in /Users/kimdonghyeon/Library/Caches/pypoetry/virtualenvs/ai-agent-W5GxBq27-py3.12/lib/python3.12/site-packages (from langgraph) (0.1.61)\n",
      "Requirement already satisfied: xxhash<4.0.0,>=3.5.0 in /Users/kimdonghyeon/Library/Caches/pypoetry/virtualenvs/ai-agent-W5GxBq27-py3.12/lib/python3.12/site-packages (from langgraph) (3.5.0)\n",
      "Requirement already satisfied: tenacity!=8.4.0,<10.0.0,>=8.1.0 in /Users/kimdonghyeon/Library/Caches/pypoetry/virtualenvs/ai-agent-W5GxBq27-py3.12/lib/python3.12/site-packages (from langchain_core) (9.1.2)\n",
      "Requirement already satisfied: jsonpatch<2.0,>=1.33 in /Users/kimdonghyeon/Library/Caches/pypoetry/virtualenvs/ai-agent-W5GxBq27-py3.12/lib/python3.12/site-packages (from langchain_core) (1.33)\n",
      "Requirement already satisfied: typing-extensions>=4.7 in /Users/kimdonghyeon/Library/Caches/pypoetry/virtualenvs/ai-agent-W5GxBq27-py3.12/lib/python3.12/site-packages (from langchain_core) (4.13.2)\n",
      "Requirement already satisfied: click>=8.1.8 in /Users/kimdonghyeon/Library/Caches/pypoetry/virtualenvs/ai-agent-W5GxBq27-py3.12/lib/python3.12/site-packages (from duckduckgo-search) (8.1.8)\n",
      "Requirement already satisfied: primp>=0.14.0 in /Users/kimdonghyeon/Library/Caches/pypoetry/virtualenvs/ai-agent-W5GxBq27-py3.12/lib/python3.12/site-packages (from duckduckgo-search) (0.14.0)\n",
      "Requirement already satisfied: lxml>=5.3.0 in /Users/kimdonghyeon/Library/Caches/pypoetry/virtualenvs/ai-agent-W5GxBq27-py3.12/lib/python3.12/site-packages (from duckduckgo-search) (5.3.2)\n",
      "Requirement already satisfied: aiohttp<4.0.0,>=3.8.3 in /Users/kimdonghyeon/Library/Caches/pypoetry/virtualenvs/ai-agent-W5GxBq27-py3.12/lib/python3.12/site-packages (from langchain-community) (3.11.16)\n",
      "Requirement already satisfied: dataclasses-json<0.7,>=0.5.7 in /Users/kimdonghyeon/Library/Caches/pypoetry/virtualenvs/ai-agent-W5GxBq27-py3.12/lib/python3.12/site-packages (from langchain-community) (0.6.7)\n",
      "Requirement already satisfied: pydantic-settings<3.0.0,>=2.4.0 in /Users/kimdonghyeon/Library/Caches/pypoetry/virtualenvs/ai-agent-W5GxBq27-py3.12/lib/python3.12/site-packages (from langchain-community) (2.8.1)\n",
      "Requirement already satisfied: httpx-sse<1.0.0,>=0.4.0 in /Users/kimdonghyeon/Library/Caches/pypoetry/virtualenvs/ai-agent-W5GxBq27-py3.12/lib/python3.12/site-packages (from langchain-community) (0.4.0)\n",
      "Collecting build>=1.0.3 (from chromadb)\n",
      "  Downloading build-1.2.2.post1-py3-none-any.whl.metadata (6.5 kB)\n",
      "Collecting chroma-hnswlib==0.7.6 (from chromadb)\n",
      "  Downloading chroma_hnswlib-0.7.6-cp312-cp312-macosx_11_0_arm64.whl.metadata (252 bytes)\n",
      "Collecting fastapi==0.115.9 (from chromadb)\n",
      "  Downloading fastapi-0.115.9-py3-none-any.whl.metadata (27 kB)\n",
      "Collecting uvicorn>=0.18.3 (from uvicorn[standard]>=0.18.3->chromadb)\n",
      "  Downloading uvicorn-0.34.2-py3-none-any.whl.metadata (6.5 kB)\n",
      "Collecting posthog>=2.4.0 (from chromadb)\n",
      "  Downloading posthog-3.25.0-py2.py3-none-any.whl.metadata (3.0 kB)\n",
      "Collecting onnxruntime>=1.14.1 (from chromadb)\n",
      "  Downloading onnxruntime-1.21.1-cp312-cp312-macosx_13_0_universal2.whl.metadata (4.5 kB)\n",
      "Collecting opentelemetry-api>=1.2.0 (from chromadb)\n",
      "  Downloading opentelemetry_api-1.32.1-py3-none-any.whl.metadata (1.6 kB)\n",
      "Collecting opentelemetry-exporter-otlp-proto-grpc>=1.2.0 (from chromadb)\n",
      "  Downloading opentelemetry_exporter_otlp_proto_grpc-1.32.1-py3-none-any.whl.metadata (2.5 kB)\n",
      "Collecting opentelemetry-instrumentation-fastapi>=0.41b0 (from chromadb)\n",
      "  Downloading opentelemetry_instrumentation_fastapi-0.53b1-py3-none-any.whl.metadata (2.2 kB)\n",
      "Collecting opentelemetry-sdk>=1.2.0 (from chromadb)\n",
      "  Downloading opentelemetry_sdk-1.32.1-py3-none-any.whl.metadata (1.6 kB)\n",
      "Collecting tokenizers>=0.13.2 (from chromadb)\n",
      "  Downloading tokenizers-0.21.1-cp39-abi3-macosx_11_0_arm64.whl.metadata (6.8 kB)\n",
      "Collecting pypika>=0.48.9 (from chromadb)\n",
      "  Downloading PyPika-0.48.9.tar.gz (67 kB)\n",
      "\u001b[2K     \u001b[90m━━━━━━━━━━━━━━━━━━━━━━━━━━━━━━━━━━━━━━━━\u001b[0m \u001b[32m67.3/67.3 kB\u001b[0m \u001b[31m3.1 MB/s\u001b[0m eta \u001b[36m0:00:00\u001b[0m\n",
      "\u001b[?25h  Installing build dependencies ... \u001b[?25ldone\n",
      "\u001b[?25h  Getting requirements to build wheel ... \u001b[?25ldone\n",
      "\u001b[?25h  Preparing metadata (pyproject.toml) ... \u001b[?25ldone\n",
      "\u001b[?25hRequirement already satisfied: tqdm>=4.65.0 in /Users/kimdonghyeon/Library/Caches/pypoetry/virtualenvs/ai-agent-W5GxBq27-py3.12/lib/python3.12/site-packages (from chromadb) (4.67.1)\n",
      "Collecting overrides>=7.3.1 (from chromadb)\n",
      "  Downloading overrides-7.7.0-py3-none-any.whl.metadata (5.8 kB)\n",
      "Collecting importlib-resources (from chromadb)\n",
      "  Downloading importlib_resources-6.5.2-py3-none-any.whl.metadata (3.9 kB)\n",
      "Collecting grpcio>=1.58.0 (from chromadb)\n",
      "  Downloading grpcio-1.71.0-cp312-cp312-macosx_10_14_universal2.whl.metadata (3.8 kB)\n",
      "Collecting bcrypt>=4.0.1 (from chromadb)\n",
      "  Downloading bcrypt-4.3.0-cp39-abi3-macosx_10_12_universal2.whl.metadata (10 kB)\n",
      "Collecting typer>=0.9.0 (from chromadb)\n",
      "  Downloading typer-0.15.2-py3-none-any.whl.metadata (15 kB)\n",
      "Collecting kubernetes>=28.1.0 (from chromadb)\n",
      "  Downloading kubernetes-32.0.1-py2.py3-none-any.whl.metadata (1.7 kB)\n",
      "Collecting mmh3>=4.0.1 (from chromadb)\n",
      "  Downloading mmh3-5.1.0-cp312-cp312-macosx_11_0_arm64.whl.metadata (16 kB)\n",
      "Collecting rich>=10.11.0 (from chromadb)\n",
      "  Downloading rich-14.0.0-py3-none-any.whl.metadata (18 kB)\n",
      "Collecting jsonschema>=4.19.0 (from chromadb)\n",
      "  Downloading jsonschema-4.23.0-py3-none-any.whl.metadata (7.9 kB)\n",
      "Collecting starlette<0.46.0,>=0.40.0 (from fastapi==0.115.9->chromadb)\n",
      "  Downloading starlette-0.45.3-py3-none-any.whl.metadata (6.3 kB)\n",
      "Requirement already satisfied: aiohappyeyeballs>=2.3.0 in /Users/kimdonghyeon/Library/Caches/pypoetry/virtualenvs/ai-agent-W5GxBq27-py3.12/lib/python3.12/site-packages (from aiohttp<4.0.0,>=3.8.3->langchain-community) (2.6.1)\n",
      "Requirement already satisfied: aiosignal>=1.1.2 in /Users/kimdonghyeon/Library/Caches/pypoetry/virtualenvs/ai-agent-W5GxBq27-py3.12/lib/python3.12/site-packages (from aiohttp<4.0.0,>=3.8.3->langchain-community) (1.3.2)\n",
      "Requirement already satisfied: attrs>=17.3.0 in /Users/kimdonghyeon/Library/Caches/pypoetry/virtualenvs/ai-agent-W5GxBq27-py3.12/lib/python3.12/site-packages (from aiohttp<4.0.0,>=3.8.3->langchain-community) (25.3.0)\n",
      "Requirement already satisfied: frozenlist>=1.1.1 in /Users/kimdonghyeon/Library/Caches/pypoetry/virtualenvs/ai-agent-W5GxBq27-py3.12/lib/python3.12/site-packages (from aiohttp<4.0.0,>=3.8.3->langchain-community) (1.5.0)\n",
      "Requirement already satisfied: multidict<7.0,>=4.5 in /Users/kimdonghyeon/Library/Caches/pypoetry/virtualenvs/ai-agent-W5GxBq27-py3.12/lib/python3.12/site-packages (from aiohttp<4.0.0,>=3.8.3->langchain-community) (6.4.3)\n",
      "Requirement already satisfied: propcache>=0.2.0 in /Users/kimdonghyeon/Library/Caches/pypoetry/virtualenvs/ai-agent-W5GxBq27-py3.12/lib/python3.12/site-packages (from aiohttp<4.0.0,>=3.8.3->langchain-community) (0.3.1)\n",
      "Requirement already satisfied: yarl<2.0,>=1.17.0 in /Users/kimdonghyeon/Library/Caches/pypoetry/virtualenvs/ai-agent-W5GxBq27-py3.12/lib/python3.12/site-packages (from aiohttp<4.0.0,>=3.8.3->langchain-community) (1.19.0)\n",
      "Collecting pyproject_hooks (from build>=1.0.3->chromadb)\n",
      "  Downloading pyproject_hooks-1.2.0-py3-none-any.whl.metadata (1.3 kB)\n",
      "Requirement already satisfied: marshmallow<4.0.0,>=3.18.0 in /Users/kimdonghyeon/Library/Caches/pypoetry/virtualenvs/ai-agent-W5GxBq27-py3.12/lib/python3.12/site-packages (from dataclasses-json<0.7,>=0.5.7->langchain-community) (3.26.1)\n",
      "Requirement already satisfied: typing-inspect<1,>=0.4.0 in /Users/kimdonghyeon/Library/Caches/pypoetry/virtualenvs/ai-agent-W5GxBq27-py3.12/lib/python3.12/site-packages (from dataclasses-json<0.7,>=0.5.7->langchain-community) (0.9.0)\n",
      "Requirement already satisfied: anyio in /Users/kimdonghyeon/Library/Caches/pypoetry/virtualenvs/ai-agent-W5GxBq27-py3.12/lib/python3.12/site-packages (from httpx<1,>=0.23.0->langsmith) (4.9.0)\n",
      "Requirement already satisfied: certifi in /Users/kimdonghyeon/Library/Caches/pypoetry/virtualenvs/ai-agent-W5GxBq27-py3.12/lib/python3.12/site-packages (from httpx<1,>=0.23.0->langsmith) (2025.1.31)\n",
      "Requirement already satisfied: httpcore==1.* in /Users/kimdonghyeon/Library/Caches/pypoetry/virtualenvs/ai-agent-W5GxBq27-py3.12/lib/python3.12/site-packages (from httpx<1,>=0.23.0->langsmith) (1.0.8)\n",
      "Requirement already satisfied: idna in /Users/kimdonghyeon/Library/Caches/pypoetry/virtualenvs/ai-agent-W5GxBq27-py3.12/lib/python3.12/site-packages (from httpx<1,>=0.23.0->langsmith) (3.10)\n",
      "Requirement already satisfied: h11<0.15,>=0.13 in /Users/kimdonghyeon/Library/Caches/pypoetry/virtualenvs/ai-agent-W5GxBq27-py3.12/lib/python3.12/site-packages (from httpcore==1.*->httpx<1,>=0.23.0->langsmith) (0.14.0)\n",
      "Requirement already satisfied: jsonpointer>=1.9 in /Users/kimdonghyeon/Library/Caches/pypoetry/virtualenvs/ai-agent-W5GxBq27-py3.12/lib/python3.12/site-packages (from jsonpatch<2.0,>=1.33->langchain_core) (3.0.0)\n",
      "Collecting jsonschema-specifications>=2023.03.6 (from jsonschema>=4.19.0->chromadb)\n",
      "  Downloading jsonschema_specifications-2024.10.1-py3-none-any.whl.metadata (3.0 kB)\n",
      "Collecting referencing>=0.28.4 (from jsonschema>=4.19.0->chromadb)\n",
      "  Downloading referencing-0.36.2-py3-none-any.whl.metadata (2.8 kB)\n",
      "Collecting rpds-py>=0.7.1 (from jsonschema>=4.19.0->chromadb)\n",
      "  Downloading rpds_py-0.24.0-cp312-cp312-macosx_11_0_arm64.whl.metadata (4.1 kB)\n",
      "Requirement already satisfied: six>=1.9.0 in /Users/kimdonghyeon/Library/Caches/pypoetry/virtualenvs/ai-agent-W5GxBq27-py3.12/lib/python3.12/site-packages (from kubernetes>=28.1.0->chromadb) (1.17.0)\n",
      "Collecting google-auth>=1.0.1 (from kubernetes>=28.1.0->chromadb)\n",
      "  Downloading google_auth-2.39.0-py2.py3-none-any.whl.metadata (6.2 kB)\n",
      "Collecting websocket-client!=0.40.0,!=0.41.*,!=0.42.*,>=0.32.0 (from kubernetes>=28.1.0->chromadb)\n",
      "  Downloading websocket_client-1.8.0-py3-none-any.whl.metadata (8.0 kB)\n",
      "Collecting requests-oauthlib (from kubernetes>=28.1.0->chromadb)\n",
      "  Downloading requests_oauthlib-2.0.0-py2.py3-none-any.whl.metadata (11 kB)\n",
      "Collecting oauthlib>=3.2.2 (from kubernetes>=28.1.0->chromadb)\n",
      "  Downloading oauthlib-3.2.2-py3-none-any.whl.metadata (7.5 kB)\n",
      "Requirement already satisfied: urllib3>=1.24.2 in /Users/kimdonghyeon/Library/Caches/pypoetry/virtualenvs/ai-agent-W5GxBq27-py3.12/lib/python3.12/site-packages (from kubernetes>=28.1.0->chromadb) (2.4.0)\n",
      "Collecting durationpy>=0.7 (from kubernetes>=28.1.0->chromadb)\n",
      "  Downloading durationpy-0.9-py3-none-any.whl.metadata (338 bytes)\n",
      "Requirement already satisfied: ormsgpack<2.0.0,>=1.8.0 in /Users/kimdonghyeon/Library/Caches/pypoetry/virtualenvs/ai-agent-W5GxBq27-py3.12/lib/python3.12/site-packages (from langgraph-checkpoint<3.0.0,>=2.0.10->langgraph) (1.9.1)\n",
      "Collecting coloredlogs (from onnxruntime>=1.14.1->chromadb)\n",
      "  Downloading coloredlogs-15.0.1-py2.py3-none-any.whl.metadata (12 kB)\n",
      "Collecting flatbuffers (from onnxruntime>=1.14.1->chromadb)\n",
      "  Downloading flatbuffers-25.2.10-py2.py3-none-any.whl.metadata (875 bytes)\n",
      "Collecting protobuf (from onnxruntime>=1.14.1->chromadb)\n",
      "  Downloading protobuf-6.30.2-cp39-abi3-macosx_10_9_universal2.whl.metadata (593 bytes)\n",
      "Collecting sympy (from onnxruntime>=1.14.1->chromadb)\n",
      "  Downloading sympy-1.13.3-py3-none-any.whl.metadata (12 kB)\n",
      "Requirement already satisfied: distro<2,>=1.7.0 in /Users/kimdonghyeon/Library/Caches/pypoetry/virtualenvs/ai-agent-W5GxBq27-py3.12/lib/python3.12/site-packages (from openai<2.0.0,>=1.68.2->langchain_openai) (1.9.0)\n",
      "Requirement already satisfied: jiter<1,>=0.4.0 in /Users/kimdonghyeon/Library/Caches/pypoetry/virtualenvs/ai-agent-W5GxBq27-py3.12/lib/python3.12/site-packages (from openai<2.0.0,>=1.68.2->langchain_openai) (0.9.0)\n",
      "Requirement already satisfied: sniffio in /Users/kimdonghyeon/Library/Caches/pypoetry/virtualenvs/ai-agent-W5GxBq27-py3.12/lib/python3.12/site-packages (from openai<2.0.0,>=1.68.2->langchain_openai) (1.3.1)\n",
      "Collecting deprecated>=1.2.6 (from opentelemetry-api>=1.2.0->chromadb)\n",
      "  Downloading Deprecated-1.2.18-py2.py3-none-any.whl.metadata (5.7 kB)\n",
      "Collecting importlib-metadata<8.7.0,>=6.0 (from opentelemetry-api>=1.2.0->chromadb)\n",
      "  Downloading importlib_metadata-8.6.1-py3-none-any.whl.metadata (4.7 kB)\n",
      "Collecting googleapis-common-protos~=1.52 (from opentelemetry-exporter-otlp-proto-grpc>=1.2.0->chromadb)\n",
      "  Downloading googleapis_common_protos-1.70.0-py3-none-any.whl.metadata (9.3 kB)\n",
      "Collecting opentelemetry-exporter-otlp-proto-common==1.32.1 (from opentelemetry-exporter-otlp-proto-grpc>=1.2.0->chromadb)\n",
      "  Downloading opentelemetry_exporter_otlp_proto_common-1.32.1-py3-none-any.whl.metadata (1.9 kB)\n",
      "Collecting opentelemetry-proto==1.32.1 (from opentelemetry-exporter-otlp-proto-grpc>=1.2.0->chromadb)\n",
      "  Downloading opentelemetry_proto-1.32.1-py3-none-any.whl.metadata (2.4 kB)\n",
      "Collecting protobuf (from onnxruntime>=1.14.1->chromadb)\n",
      "  Downloading protobuf-5.29.4-cp38-abi3-macosx_10_9_universal2.whl.metadata (592 bytes)\n",
      "Collecting opentelemetry-instrumentation-asgi==0.53b1 (from opentelemetry-instrumentation-fastapi>=0.41b0->chromadb)\n",
      "  Downloading opentelemetry_instrumentation_asgi-0.53b1-py3-none-any.whl.metadata (2.1 kB)\n",
      "Collecting opentelemetry-instrumentation==0.53b1 (from opentelemetry-instrumentation-fastapi>=0.41b0->chromadb)\n",
      "  Downloading opentelemetry_instrumentation-0.53b1-py3-none-any.whl.metadata (6.8 kB)\n",
      "Collecting opentelemetry-semantic-conventions==0.53b1 (from opentelemetry-instrumentation-fastapi>=0.41b0->chromadb)\n",
      "  Downloading opentelemetry_semantic_conventions-0.53b1-py3-none-any.whl.metadata (2.5 kB)\n",
      "Collecting opentelemetry-util-http==0.53b1 (from opentelemetry-instrumentation-fastapi>=0.41b0->chromadb)\n",
      "  Downloading opentelemetry_util_http-0.53b1-py3-none-any.whl.metadata (2.6 kB)\n",
      "Collecting wrapt<2.0.0,>=1.0.0 (from opentelemetry-instrumentation==0.53b1->opentelemetry-instrumentation-fastapi>=0.41b0->chromadb)\n",
      "  Downloading wrapt-1.17.2-cp312-cp312-macosx_11_0_arm64.whl.metadata (6.4 kB)\n",
      "Collecting asgiref~=3.0 (from opentelemetry-instrumentation-asgi==0.53b1->opentelemetry-instrumentation-fastapi>=0.41b0->chromadb)\n",
      "  Downloading asgiref-3.8.1-py3-none-any.whl.metadata (9.3 kB)\n",
      "Collecting monotonic>=1.5 (from posthog>=2.4.0->chromadb)\n",
      "  Downloading monotonic-1.6-py2.py3-none-any.whl.metadata (1.5 kB)\n",
      "Collecting backoff>=1.10.0 (from posthog>=2.4.0->chromadb)\n",
      "  Downloading backoff-2.2.1-py3-none-any.whl.metadata (14 kB)\n",
      "Requirement already satisfied: annotated-types>=0.6.0 in /Users/kimdonghyeon/Library/Caches/pypoetry/virtualenvs/ai-agent-W5GxBq27-py3.12/lib/python3.12/site-packages (from pydantic<3.0.0,>=2.7.4->langchain) (0.7.0)\n",
      "Requirement already satisfied: pydantic-core==2.33.1 in /Users/kimdonghyeon/Library/Caches/pypoetry/virtualenvs/ai-agent-W5GxBq27-py3.12/lib/python3.12/site-packages (from pydantic<3.0.0,>=2.7.4->langchain) (2.33.1)\n",
      "Requirement already satisfied: typing-inspection>=0.4.0 in /Users/kimdonghyeon/Library/Caches/pypoetry/virtualenvs/ai-agent-W5GxBq27-py3.12/lib/python3.12/site-packages (from pydantic<3.0.0,>=2.7.4->langchain) (0.4.0)\n",
      "Requirement already satisfied: python-dotenv>=0.21.0 in /Users/kimdonghyeon/Library/Caches/pypoetry/virtualenvs/ai-agent-W5GxBq27-py3.12/lib/python3.12/site-packages (from pydantic-settings<3.0.0,>=2.4.0->langchain-community) (1.1.0)\n",
      "Requirement already satisfied: charset-normalizer<4,>=2 in /Users/kimdonghyeon/Library/Caches/pypoetry/virtualenvs/ai-agent-W5GxBq27-py3.12/lib/python3.12/site-packages (from requests<3,>=2->langchain) (3.4.1)\n",
      "Collecting markdown-it-py>=2.2.0 (from rich>=10.11.0->chromadb)\n",
      "  Downloading markdown_it_py-3.0.0-py3-none-any.whl.metadata (6.9 kB)\n",
      "Requirement already satisfied: pygments<3.0.0,>=2.13.0 in /Users/kimdonghyeon/Library/Caches/pypoetry/virtualenvs/ai-agent-W5GxBq27-py3.12/lib/python3.12/site-packages (from rich>=10.11.0->chromadb) (2.19.1)\n",
      "Requirement already satisfied: regex>=2022.1.18 in /Users/kimdonghyeon/Library/Caches/pypoetry/virtualenvs/ai-agent-W5GxBq27-py3.12/lib/python3.12/site-packages (from tiktoken<1,>=0.7->langchain_openai) (2024.11.6)\n",
      "Collecting huggingface-hub<1.0,>=0.16.4 (from tokenizers>=0.13.2->chromadb)\n",
      "  Downloading huggingface_hub-0.30.2-py3-none-any.whl.metadata (13 kB)\n",
      "Collecting shellingham>=1.3.0 (from typer>=0.9.0->chromadb)\n",
      "  Downloading shellingham-1.5.4-py2.py3-none-any.whl.metadata (3.5 kB)\n",
      "Collecting httptools>=0.6.3 (from uvicorn[standard]>=0.18.3->chromadb)\n",
      "  Downloading httptools-0.6.4-cp312-cp312-macosx_11_0_arm64.whl.metadata (3.6 kB)\n",
      "Collecting uvloop!=0.15.0,!=0.15.1,>=0.14.0 (from uvicorn[standard]>=0.18.3->chromadb)\n",
      "  Downloading uvloop-0.21.0-cp312-cp312-macosx_10_13_universal2.whl.metadata (4.9 kB)\n",
      "Collecting watchfiles>=0.13 (from uvicorn[standard]>=0.18.3->chromadb)\n",
      "  Downloading watchfiles-1.0.5-cp312-cp312-macosx_11_0_arm64.whl.metadata (4.9 kB)\n",
      "Collecting websockets>=10.4 (from uvicorn[standard]>=0.18.3->chromadb)\n",
      "  Downloading websockets-15.0.1-cp312-cp312-macosx_11_0_arm64.whl.metadata (6.8 kB)\n",
      "Collecting cachetools<6.0,>=2.0.0 (from google-auth>=1.0.1->kubernetes>=28.1.0->chromadb)\n",
      "  Downloading cachetools-5.5.2-py3-none-any.whl.metadata (5.4 kB)\n",
      "Collecting pyasn1-modules>=0.2.1 (from google-auth>=1.0.1->kubernetes>=28.1.0->chromadb)\n",
      "  Downloading pyasn1_modules-0.4.2-py3-none-any.whl.metadata (3.5 kB)\n",
      "Collecting rsa<5,>=3.1.4 (from google-auth>=1.0.1->kubernetes>=28.1.0->chromadb)\n",
      "  Downloading rsa-4.9.1-py3-none-any.whl.metadata (5.6 kB)\n",
      "Collecting filelock (from huggingface-hub<1.0,>=0.16.4->tokenizers>=0.13.2->chromadb)\n",
      "  Downloading filelock-3.18.0-py3-none-any.whl.metadata (2.9 kB)\n",
      "Collecting fsspec>=2023.5.0 (from huggingface-hub<1.0,>=0.16.4->tokenizers>=0.13.2->chromadb)\n",
      "  Downloading fsspec-2025.3.2-py3-none-any.whl.metadata (11 kB)\n",
      "Collecting zipp>=3.20 (from importlib-metadata<8.7.0,>=6.0->opentelemetry-api>=1.2.0->chromadb)\n",
      "  Downloading zipp-3.21.0-py3-none-any.whl.metadata (3.7 kB)\n",
      "Collecting mdurl~=0.1 (from markdown-it-py>=2.2.0->rich>=10.11.0->chromadb)\n",
      "  Downloading mdurl-0.1.2-py3-none-any.whl.metadata (1.6 kB)\n",
      "Requirement already satisfied: mypy-extensions>=0.3.0 in /Users/kimdonghyeon/Library/Caches/pypoetry/virtualenvs/ai-agent-W5GxBq27-py3.12/lib/python3.12/site-packages (from typing-inspect<1,>=0.4.0->dataclasses-json<0.7,>=0.5.7->langchain-community) (1.0.0)\n",
      "Collecting humanfriendly>=9.1 (from coloredlogs->onnxruntime>=1.14.1->chromadb)\n",
      "  Downloading humanfriendly-10.0-py2.py3-none-any.whl.metadata (9.2 kB)\n",
      "Collecting mpmath<1.4,>=1.1.0 (from sympy->onnxruntime>=1.14.1->chromadb)\n",
      "  Downloading mpmath-1.3.0-py3-none-any.whl.metadata (8.6 kB)\n",
      "Collecting pyasn1<0.7.0,>=0.6.1 (from pyasn1-modules>=0.2.1->google-auth>=1.0.1->kubernetes>=28.1.0->chromadb)\n",
      "  Downloading pyasn1-0.6.1-py3-none-any.whl.metadata (8.4 kB)\n",
      "Downloading pandas-2.2.3-cp312-cp312-macosx_11_0_arm64.whl (11.4 MB)\n",
      "\u001b[2K   \u001b[90m━━━━━━━━━━━━━━━━━━━━━━━━━━━━━━━━━━━━━━━━\u001b[0m \u001b[32m11.4/11.4 MB\u001b[0m \u001b[31m10.4 MB/s\u001b[0m eta \u001b[36m0:00:00\u001b[0m00:01\u001b[0m00:01\u001b[0m\n",
      "\u001b[?25hDownloading langchain_experimental-0.3.4-py3-none-any.whl (209 kB)\n",
      "\u001b[2K   \u001b[90m━━━━━━━━━━━━━━━━━━━━━━━━━━━━━━━━━━━━━━━━\u001b[0m \u001b[32m209.2/209.2 kB\u001b[0m \u001b[31m7.6 MB/s\u001b[0m eta \u001b[36m0:00:00\u001b[0m\n",
      "\u001b[?25hDownloading matplotlib-3.10.1-cp312-cp312-macosx_11_0_arm64.whl (8.0 MB)\n",
      "\u001b[2K   \u001b[90m━━━━━━━━━━━━━━━━━━━━━━━━━━━━━━━━━━━━━━━━\u001b[0m \u001b[32m8.0/8.0 MB\u001b[0m \u001b[31m11.4 MB/s\u001b[0m eta \u001b[36m0:00:00\u001b[0m00:01\u001b[0m00:01\u001b[0m\n",
      "\u001b[?25hDownloading chromadb-1.0.6-cp39-abi3-macosx_11_0_arm64.whl (16.9 MB)\n",
      "\u001b[2K   \u001b[90m━━━━━━━━━━━━━━━━━━━━━━━━━━━━━━━━━━━━━━━━\u001b[0m \u001b[32m16.9/16.9 MB\u001b[0m \u001b[31m11.2 MB/s\u001b[0m eta \u001b[36m0:00:00\u001b[0m00:01\u001b[0m00:01\u001b[0m\n",
      "\u001b[?25hDownloading chroma_hnswlib-0.7.6-cp312-cp312-macosx_11_0_arm64.whl (185 kB)\n",
      "\u001b[2K   \u001b[90m━━━━━━━━━━━━━━━━━━━━━━━━━━━━━━━━━━━━━━━━\u001b[0m \u001b[32m185.4/185.4 kB\u001b[0m \u001b[31m6.6 MB/s\u001b[0m eta \u001b[36m0:00:00\u001b[0m\n",
      "\u001b[?25hDownloading fastapi-0.115.9-py3-none-any.whl (94 kB)\n",
      "\u001b[2K   \u001b[90m━━━━━━━━━━━━━━━━━━━━━━━━━━━━━━━━━━━━━━━━\u001b[0m \u001b[32m94.9/94.9 kB\u001b[0m \u001b[31m4.9 MB/s\u001b[0m eta \u001b[36m0:00:00\u001b[0m\n",
      "\u001b[?25hDownloading bcrypt-4.3.0-cp39-abi3-macosx_10_12_universal2.whl (498 kB)\n",
      "\u001b[2K   \u001b[90m━━━━━━━━━━━━━━━━━━━━━━━━━━━━━━━━━━━━━━━━\u001b[0m \u001b[32m499.0/499.0 kB\u001b[0m \u001b[31m9.5 MB/s\u001b[0m eta \u001b[36m0:00:00\u001b[0mta \u001b[36m0:00:01\u001b[0m\n",
      "\u001b[?25hDownloading build-1.2.2.post1-py3-none-any.whl (22 kB)\n",
      "Downloading contourpy-1.3.2-cp312-cp312-macosx_11_0_arm64.whl (255 kB)\n",
      "\u001b[2K   \u001b[90m━━━━━━━━━━━━━━━━━━━━━━━━━━━━━━━━━━━━━━━━\u001b[0m \u001b[32m255.5/255.5 kB\u001b[0m \u001b[31m7.4 MB/s\u001b[0m eta \u001b[36m0:00:00\u001b[0m\n",
      "\u001b[?25hDownloading cycler-0.12.1-py3-none-any.whl (8.3 kB)\n",
      "Downloading fonttools-4.57.0-cp312-cp312-macosx_10_13_universal2.whl (2.8 MB)\n",
      "\u001b[2K   \u001b[90m━━━━━━━━━━━━━━━━━━━━━━━━━━━━━━━━━━━━━━━━\u001b[0m \u001b[32m2.8/2.8 MB\u001b[0m \u001b[31m11.2 MB/s\u001b[0m eta \u001b[36m0:00:00\u001b[0m00:01\u001b[0m00:01\u001b[0m\n",
      "\u001b[?25hDownloading grpcio-1.71.0-cp312-cp312-macosx_10_14_universal2.whl (11.3 MB)\n",
      "\u001b[2K   \u001b[90m━━━━━━━━━━━━━━━━━━━━━━━━━━━━━━━━━━━━━━━━\u001b[0m \u001b[32m11.3/11.3 MB\u001b[0m \u001b[31m11.4 MB/s\u001b[0m eta \u001b[36m0:00:00\u001b[0m00:01\u001b[0m00:01\u001b[0m\n",
      "\u001b[?25hDownloading jsonschema-4.23.0-py3-none-any.whl (88 kB)\n",
      "\u001b[2K   \u001b[90m━━━━━━━━━━━━━━━━━━━━━━━━━━━━━━━━━━━━━━━━\u001b[0m \u001b[32m88.5/88.5 kB\u001b[0m \u001b[31m8.4 MB/s\u001b[0m eta \u001b[36m0:00:00\u001b[0m\n",
      "\u001b[?25hDownloading kiwisolver-1.4.8-cp312-cp312-macosx_11_0_arm64.whl (65 kB)\n",
      "\u001b[2K   \u001b[90m━━━━━━━━━━━━━━━━━━━━━━━━━━━━━━━━━━━━━━━━\u001b[0m \u001b[32m65.1/65.1 kB\u001b[0m \u001b[31m6.7 MB/s\u001b[0m eta \u001b[36m0:00:00\u001b[0m\n",
      "\u001b[?25hDownloading kubernetes-32.0.1-py2.py3-none-any.whl (2.0 MB)\n",
      "\u001b[2K   \u001b[90m━━━━━━━━━━━━━━━━━━━━━━━━━━━━━━━━━━━━━━━━\u001b[0m \u001b[32m2.0/2.0 MB\u001b[0m \u001b[31m11.1 MB/s\u001b[0m eta \u001b[36m0:00:00\u001b[0ma \u001b[36m0:00:01\u001b[0m\n",
      "\u001b[?25hDownloading mmh3-5.1.0-cp312-cp312-macosx_11_0_arm64.whl (40 kB)\n",
      "\u001b[2K   \u001b[90m━━━━━━━━━━━━━━━━━━━━━━━━━━━━━━━━━━━━━━━━\u001b[0m \u001b[32m40.1/40.1 kB\u001b[0m \u001b[31m4.6 MB/s\u001b[0m eta \u001b[36m0:00:00\u001b[0m\n",
      "\u001b[?25hDownloading onnxruntime-1.21.1-cp312-cp312-macosx_13_0_universal2.whl (33.7 MB)\n",
      "\u001b[2K   \u001b[90m━━━━━━━━━━━━━━━━━━━━━━━━━━━━━━━━━━━━━━━━\u001b[0m \u001b[32m33.7/33.7 MB\u001b[0m \u001b[31m11.3 MB/s\u001b[0m eta \u001b[36m0:00:00\u001b[0m00:01\u001b[0m00:01\u001b[0m\n",
      "\u001b[?25hDownloading opentelemetry_api-1.32.1-py3-none-any.whl (65 kB)\n",
      "\u001b[2K   \u001b[90m━━━━━━━━━━━━━━━━━━━━━━━━━━━━━━━━━━━━━━━━\u001b[0m \u001b[32m65.3/65.3 kB\u001b[0m \u001b[31m6.5 MB/s\u001b[0m eta \u001b[36m0:00:00\u001b[0m\n",
      "\u001b[?25hDownloading opentelemetry_exporter_otlp_proto_grpc-1.32.1-py3-none-any.whl (18 kB)\n",
      "Downloading opentelemetry_exporter_otlp_proto_common-1.32.1-py3-none-any.whl (18 kB)\n",
      "Downloading opentelemetry_proto-1.32.1-py3-none-any.whl (55 kB)\n",
      "\u001b[2K   \u001b[90m━━━━━━━━━━━━━━━━━━━━━━━━━━━━━━━━━━━━━━━━\u001b[0m \u001b[32m55.9/55.9 kB\u001b[0m \u001b[31m3.5 MB/s\u001b[0m eta \u001b[36m0:00:00\u001b[0m\n",
      "\u001b[?25hDownloading opentelemetry_instrumentation_fastapi-0.53b1-py3-none-any.whl (12 kB)\n",
      "Downloading opentelemetry_instrumentation-0.53b1-py3-none-any.whl (30 kB)\n",
      "Downloading opentelemetry_instrumentation_asgi-0.53b1-py3-none-any.whl (16 kB)\n",
      "Downloading opentelemetry_semantic_conventions-0.53b1-py3-none-any.whl (188 kB)\n",
      "\u001b[2K   \u001b[90m━━━━━━━━━━━━━━━━━━━━━━━━━━━━━━━━━━━━━━━━\u001b[0m \u001b[32m188.4/188.4 kB\u001b[0m \u001b[31m6.6 MB/s\u001b[0m eta \u001b[36m0:00:00\u001b[0m\n",
      "\u001b[?25hDownloading opentelemetry_util_http-0.53b1-py3-none-any.whl (7.3 kB)\n",
      "Downloading opentelemetry_sdk-1.32.1-py3-none-any.whl (118 kB)\n",
      "\u001b[2K   \u001b[90m━━━━━━━━━━━━━━━━━━━━━━━━━━━━━━━━━━━━━━━━\u001b[0m \u001b[32m119.0/119.0 kB\u001b[0m \u001b[31m5.8 MB/s\u001b[0m eta \u001b[36m0:00:00\u001b[0m\n",
      "\u001b[?25hDownloading overrides-7.7.0-py3-none-any.whl (17 kB)\n",
      "Downloading pillow-11.2.1-cp312-cp312-macosx_11_0_arm64.whl (3.0 MB)\n",
      "\u001b[2K   \u001b[90m━━━━━━━━━━━━━━━━━━━━━━━━━━━━━━━━━━━━━━━━\u001b[0m \u001b[32m3.0/3.0 MB\u001b[0m \u001b[31m10.2 MB/s\u001b[0m eta \u001b[36m0:00:00\u001b[0ma \u001b[36m0:00:01\u001b[0m\n",
      "\u001b[?25hDownloading posthog-3.25.0-py2.py3-none-any.whl (89 kB)\n",
      "\u001b[2K   \u001b[90m━━━━━━━━━━━━━━━━━━━━━━━━━━━━━━━━━━━━━━━━\u001b[0m \u001b[32m89.1/89.1 kB\u001b[0m \u001b[31m4.6 MB/s\u001b[0m eta \u001b[36m0:00:00\u001b[0m\n",
      "\u001b[?25hDownloading pyparsing-3.2.3-py3-none-any.whl (111 kB)\n",
      "\u001b[2K   \u001b[90m━━━━━━━━━━━━━━━━━━━━━━━━━━━━━━━━━━━━━━━━\u001b[0m \u001b[32m111.1/111.1 kB\u001b[0m \u001b[31m8.1 MB/s\u001b[0m eta \u001b[36m0:00:00\u001b[0m\n",
      "\u001b[?25hDownloading pytz-2025.2-py2.py3-none-any.whl (509 kB)\n",
      "\u001b[2K   \u001b[90m━━━━━━━━━━━━━━━━━━━━━━━━━━━━━━━━━━━━━━━━\u001b[0m \u001b[32m509.2/509.2 kB\u001b[0m \u001b[31m10.6 MB/s\u001b[0m eta \u001b[36m0:00:00\u001b[0ma \u001b[36m0:00:01\u001b[0m\n",
      "\u001b[?25hDownloading rich-14.0.0-py3-none-any.whl (243 kB)\n",
      "\u001b[2K   \u001b[90m━━━━━━━━━━━━━━━━━━━━━━━━━━━━━━━━━━━━━━━━\u001b[0m \u001b[32m243.2/243.2 kB\u001b[0m \u001b[31m7.3 MB/s\u001b[0m eta \u001b[36m0:00:00\u001b[0m\n",
      "\u001b[?25hDownloading tokenizers-0.21.1-cp39-abi3-macosx_11_0_arm64.whl (2.7 MB)\n",
      "\u001b[2K   \u001b[90m━━━━━━━━━━━━━━━━━━━━━━━━━━━━━━━━━━━━━━━━\u001b[0m \u001b[32m2.7/2.7 MB\u001b[0m \u001b[31m11.1 MB/s\u001b[0m eta \u001b[36m0:00:00\u001b[0ma \u001b[36m0:00:01\u001b[0m\n",
      "\u001b[?25hDownloading typer-0.15.2-py3-none-any.whl (45 kB)\n",
      "\u001b[2K   \u001b[90m━━━━━━━━━━━━━━━━━━━━━━━━━━━━━━━━━━━━━━━━\u001b[0m \u001b[32m45.1/45.1 kB\u001b[0m \u001b[31m2.5 MB/s\u001b[0m eta \u001b[36m0:00:00\u001b[0m\n",
      "\u001b[?25hDownloading tzdata-2025.2-py2.py3-none-any.whl (347 kB)\n",
      "\u001b[2K   \u001b[90m━━━━━━━━━━━━━━━━━━━━━━━━━━━━━━━━━━━━━━━━\u001b[0m \u001b[32m347.8/347.8 kB\u001b[0m \u001b[31m8.2 MB/s\u001b[0m eta \u001b[36m0:00:00\u001b[0mta \u001b[36m0:00:01\u001b[0m\n",
      "\u001b[?25hDownloading uvicorn-0.34.2-py3-none-any.whl (62 kB)\n",
      "\u001b[2K   \u001b[90m━━━━━━━━━━━━━━━━━━━━━━━━━━━━━━━━━━━━━━━━\u001b[0m \u001b[32m62.5/62.5 kB\u001b[0m \u001b[31m3.3 MB/s\u001b[0m eta \u001b[36m0:00:00\u001b[0m\n",
      "\u001b[?25hDownloading importlib_resources-6.5.2-py3-none-any.whl (37 kB)\n",
      "Downloading backoff-2.2.1-py3-none-any.whl (15 kB)\n",
      "Downloading Deprecated-1.2.18-py2.py3-none-any.whl (10.0 kB)\n",
      "Downloading durationpy-0.9-py3-none-any.whl (3.5 kB)\n",
      "Downloading google_auth-2.39.0-py2.py3-none-any.whl (212 kB)\n",
      "\u001b[2K   \u001b[90m━━━━━━━━━━━━━━━━━━━━━━━━━━━━━━━━━━━━━━━━\u001b[0m \u001b[32m212.3/212.3 kB\u001b[0m \u001b[31m8.6 MB/s\u001b[0m eta \u001b[36m0:00:00\u001b[0m\n",
      "\u001b[?25hDownloading googleapis_common_protos-1.70.0-py3-none-any.whl (294 kB)\n",
      "\u001b[2K   \u001b[90m━━━━━━━━━━━━━━━━━━━━━━━━━━━━━━━━━━━━━━━━\u001b[0m \u001b[32m294.5/294.5 kB\u001b[0m \u001b[31m7.8 MB/s\u001b[0m eta \u001b[36m0:00:00\u001b[0mta \u001b[36m0:00:01\u001b[0m\n",
      "\u001b[?25hDownloading httptools-0.6.4-cp312-cp312-macosx_11_0_arm64.whl (104 kB)\n",
      "\u001b[2K   \u001b[90m━━━━━━━━━━━━━━━━━━━━━━━━━━━━━━━━━━━━━━━━\u001b[0m \u001b[32m104.3/104.3 kB\u001b[0m \u001b[31m5.9 MB/s\u001b[0m eta \u001b[36m0:00:00\u001b[0m\n",
      "\u001b[?25hDownloading huggingface_hub-0.30.2-py3-none-any.whl (481 kB)\n",
      "\u001b[2K   \u001b[90m━━━━━━━━━━━━━━━━━━━━━━━━━━━━━━━━━━━━━━━━\u001b[0m \u001b[32m481.4/481.4 kB\u001b[0m \u001b[31m10.8 MB/s\u001b[0m eta \u001b[36m0:00:00\u001b[0m00:01\u001b[0m\n",
      "\u001b[?25hDownloading importlib_metadata-8.6.1-py3-none-any.whl (26 kB)\n",
      "Downloading jsonschema_specifications-2024.10.1-py3-none-any.whl (18 kB)\n",
      "Downloading markdown_it_py-3.0.0-py3-none-any.whl (87 kB)\n",
      "\u001b[2K   \u001b[90m━━━━━━━━━━━━━━━━━━━━━━━━━━━━━━━━━━━━━━━━\u001b[0m \u001b[32m87.5/87.5 kB\u001b[0m \u001b[31m4.8 MB/s\u001b[0m eta \u001b[36m0:00:00\u001b[0m\n",
      "\u001b[?25hDownloading monotonic-1.6-py2.py3-none-any.whl (8.2 kB)\n",
      "Downloading oauthlib-3.2.2-py3-none-any.whl (151 kB)\n",
      "\u001b[2K   \u001b[90m━━━━━━━━━━━━━━━━━━━━━━━━━━━━━━━━━━━━━━━━\u001b[0m \u001b[32m151.7/151.7 kB\u001b[0m \u001b[31m6.0 MB/s\u001b[0m eta \u001b[36m0:00:00\u001b[0m\n",
      "\u001b[?25hDownloading protobuf-5.29.4-cp38-abi3-macosx_10_9_universal2.whl (417 kB)\n",
      "\u001b[2K   \u001b[90m━━━━━━━━━━━━━━━━━━━━━━━━━━━━━━━━━━━━━━━━\u001b[0m \u001b[32m417.8/417.8 kB\u001b[0m \u001b[31m8.8 MB/s\u001b[0m eta \u001b[36m0:00:00\u001b[0m:00:01\u001b[0m\n",
      "\u001b[?25hDownloading referencing-0.36.2-py3-none-any.whl (26 kB)\n",
      "Downloading rpds_py-0.24.0-cp312-cp312-macosx_11_0_arm64.whl (351 kB)\n",
      "\u001b[2K   \u001b[90m━━━━━━━━━━━━━━━━━━━━━━━━━━━━━━━━━━━━━━━━\u001b[0m \u001b[32m351.9/351.9 kB\u001b[0m \u001b[31m2.6 MB/s\u001b[0m eta \u001b[36m0:00:00\u001b[0ma \u001b[36m0:00:01\u001b[0m\n",
      "\u001b[?25hDownloading shellingham-1.5.4-py2.py3-none-any.whl (9.8 kB)\n",
      "Downloading starlette-0.45.3-py3-none-any.whl (71 kB)\n",
      "\u001b[2K   \u001b[90m━━━━━━━━━━━━━━━━━━━━━━━━━━━━━━━━━━━━━━━━\u001b[0m \u001b[32m71.5/71.5 kB\u001b[0m \u001b[31m4.1 MB/s\u001b[0m eta \u001b[36m0:00:00\u001b[0m\n",
      "\u001b[?25hDownloading uvloop-0.21.0-cp312-cp312-macosx_10_13_universal2.whl (1.5 MB)\n",
      "\u001b[2K   \u001b[90m━━━━━━━━━━━━━━━━━━━━━━━━━━━━━━━━━━━━━━━━\u001b[0m \u001b[32m1.5/1.5 MB\u001b[0m \u001b[31m10.8 MB/s\u001b[0m eta \u001b[36m0:00:00\u001b[0ma \u001b[36m0:00:01\u001b[0m\n",
      "\u001b[?25hDownloading watchfiles-1.0.5-cp312-cp312-macosx_11_0_arm64.whl (392 kB)\n",
      "\u001b[2K   \u001b[90m━━━━━━━━━━━━━━━━━━━━━━━━━━━━━━━━━━━━━━━━\u001b[0m \u001b[32m392.7/392.7 kB\u001b[0m \u001b[31m8.6 MB/s\u001b[0m eta \u001b[36m0:00:00\u001b[0mta \u001b[36m0:00:01\u001b[0m\n",
      "\u001b[?25hDownloading websocket_client-1.8.0-py3-none-any.whl (58 kB)\n",
      "\u001b[2K   \u001b[90m━━━━━━━━━━━━━━━━━━━━━━━━━━━━━━━━━━━━━━━━\u001b[0m \u001b[32m58.8/58.8 kB\u001b[0m \u001b[31m3.4 MB/s\u001b[0m eta \u001b[36m0:00:00\u001b[0m\n",
      "\u001b[?25hDownloading websockets-15.0.1-cp312-cp312-macosx_11_0_arm64.whl (173 kB)\n",
      "\u001b[2K   \u001b[90m━━━━━━━━━━━━━━━━━━━━━━━━━━━━━━━━━━━━━━━━\u001b[0m \u001b[32m173.3/173.3 kB\u001b[0m \u001b[31m6.7 MB/s\u001b[0m eta \u001b[36m0:00:00\u001b[0m\n",
      "\u001b[?25hDownloading coloredlogs-15.0.1-py2.py3-none-any.whl (46 kB)\n",
      "\u001b[2K   \u001b[90m━━━━━━━━━━━━━━━━━━━━━━━━━━━━━━━━━━━━━━━━\u001b[0m \u001b[32m46.0/46.0 kB\u001b[0m \u001b[31m2.7 MB/s\u001b[0m eta \u001b[36m0:00:00\u001b[0m\n",
      "\u001b[?25hDownloading flatbuffers-25.2.10-py2.py3-none-any.whl (30 kB)\n",
      "Downloading pyproject_hooks-1.2.0-py3-none-any.whl (10 kB)\n",
      "Downloading requests_oauthlib-2.0.0-py2.py3-none-any.whl (24 kB)\n",
      "Downloading sympy-1.13.3-py3-none-any.whl (6.2 MB)\n",
      "\u001b[2K   \u001b[90m━━━━━━━━━━━━━━━━━━━━━━━━━━━━━━━━━━━━━━━━\u001b[0m \u001b[32m6.2/6.2 MB\u001b[0m \u001b[31m11.3 MB/s\u001b[0m eta \u001b[36m0:00:00\u001b[0m00:01\u001b[0m00:01\u001b[0m\n",
      "\u001b[?25hDownloading asgiref-3.8.1-py3-none-any.whl (23 kB)\n",
      "Downloading cachetools-5.5.2-py3-none-any.whl (10 kB)\n",
      "Downloading fsspec-2025.3.2-py3-none-any.whl (194 kB)\n",
      "\u001b[2K   \u001b[90m━━━━━━━━━━━━━━━━━━━━━━━━━━━━━━━━━━━━━━━━\u001b[0m \u001b[32m194.4/194.4 kB\u001b[0m \u001b[31m6.9 MB/s\u001b[0m eta \u001b[36m0:00:00\u001b[0m\n",
      "\u001b[?25hDownloading humanfriendly-10.0-py2.py3-none-any.whl (86 kB)\n",
      "\u001b[2K   \u001b[90m━━━━━━━━━━━━━━━━━━━━━━━━━━━━━━━━━━━━━━━━\u001b[0m \u001b[32m86.8/86.8 kB\u001b[0m \u001b[31m4.9 MB/s\u001b[0m eta \u001b[36m0:00:00\u001b[0m\n",
      "\u001b[?25hDownloading mdurl-0.1.2-py3-none-any.whl (10.0 kB)\n",
      "Downloading mpmath-1.3.0-py3-none-any.whl (536 kB)\n",
      "\u001b[2K   \u001b[90m━━━━━━━━━━━━━━━━━━━━━━━━━━━━━━━━━━━━━━━━\u001b[0m \u001b[32m536.2/536.2 kB\u001b[0m \u001b[31m10.1 MB/s\u001b[0m eta \u001b[36m0:00:00\u001b[0ma \u001b[36m0:00:01\u001b[0m\n",
      "\u001b[?25hDownloading pyasn1_modules-0.4.2-py3-none-any.whl (181 kB)\n",
      "\u001b[2K   \u001b[90m━━━━━━━━━━━━━━━━━━━━━━━━━━━━━━━━━━━━━━━━\u001b[0m \u001b[32m181.3/181.3 kB\u001b[0m \u001b[31m6.8 MB/s\u001b[0m eta \u001b[36m0:00:00\u001b[0m\n",
      "\u001b[?25hDownloading rsa-4.9.1-py3-none-any.whl (34 kB)\n",
      "Downloading wrapt-1.17.2-cp312-cp312-macosx_11_0_arm64.whl (38 kB)\n",
      "Downloading zipp-3.21.0-py3-none-any.whl (9.6 kB)\n",
      "Downloading filelock-3.18.0-py3-none-any.whl (16 kB)\n",
      "Downloading pyasn1-0.6.1-py3-none-any.whl (83 kB)\n",
      "\u001b[2K   \u001b[90m━━━━━━━━━━━━━━━━━━━━━━━━━━━━━━━━━━━━━━━━\u001b[0m \u001b[32m83.1/83.1 kB\u001b[0m \u001b[31m4.3 MB/s\u001b[0m eta \u001b[36m0:00:00\u001b[0m\n",
      "\u001b[?25hBuilding wheels for collected packages: pypika\n",
      "  Building wheel for pypika (pyproject.toml) ... \u001b[?25ldone\n",
      "\u001b[?25h  Created wheel for pypika: filename=pypika-0.48.9-py2.py3-none-any.whl size=53801 sha256=c976e1314fd12048873f80239664039ba843f8f613a7159ad83351abe8a74bde\n",
      "  Stored in directory: /Users/kimdonghyeon/Library/Caches/pip/wheels/d5/3d/69/8d68d249cd3de2584f226e27fd431d6344f7d70fd856ebd01b\n",
      "Successfully built pypika\n",
      "Installing collected packages: pytz, pypika, mpmath, monotonic, flatbuffers, durationpy, zipp, wrapt, websockets, websocket-client, uvloop, uvicorn, tzdata, sympy, shellingham, rpds-py, pyproject_hooks, pyparsing, pyasn1, protobuf, pillow, overrides, opentelemetry-util-http, oauthlib, mmh3, mdurl, kiwisolver, importlib-resources, humanfriendly, httptools, grpcio, fsspec, fonttools, filelock, cycler, contourpy, chroma-hnswlib, cachetools, bcrypt, backoff, asgiref, watchfiles, starlette, rsa, requests-oauthlib, referencing, pyasn1-modules, posthog, pandas, opentelemetry-proto, matplotlib, markdown-it-py, importlib-metadata, huggingface-hub, googleapis-common-protos, deprecated, coloredlogs, build, tokenizers, rich, opentelemetry-exporter-otlp-proto-common, opentelemetry-api, onnxruntime, jsonschema-specifications, google-auth, fastapi, typer, opentelemetry-semantic-conventions, kubernetes, jsonschema, opentelemetry-sdk, opentelemetry-instrumentation, opentelemetry-instrumentation-asgi, opentelemetry-exporter-otlp-proto-grpc, opentelemetry-instrumentation-fastapi, langchain_experimental, chromadb\n",
      "Successfully installed asgiref-3.8.1 backoff-2.2.1 bcrypt-4.3.0 build-1.2.2.post1 cachetools-5.5.2 chroma-hnswlib-0.7.6 chromadb-1.0.6 coloredlogs-15.0.1 contourpy-1.3.2 cycler-0.12.1 deprecated-1.2.18 durationpy-0.9 fastapi-0.115.9 filelock-3.18.0 flatbuffers-25.2.10 fonttools-4.57.0 fsspec-2025.3.2 google-auth-2.39.0 googleapis-common-protos-1.70.0 grpcio-1.71.0 httptools-0.6.4 huggingface-hub-0.30.2 humanfriendly-10.0 importlib-metadata-8.6.1 importlib-resources-6.5.2 jsonschema-4.23.0 jsonschema-specifications-2024.10.1 kiwisolver-1.4.8 kubernetes-32.0.1 langchain_experimental-0.3.4 markdown-it-py-3.0.0 matplotlib-3.10.1 mdurl-0.1.2 mmh3-5.1.0 monotonic-1.6 mpmath-1.3.0 oauthlib-3.2.2 onnxruntime-1.21.1 opentelemetry-api-1.32.1 opentelemetry-exporter-otlp-proto-common-1.32.1 opentelemetry-exporter-otlp-proto-grpc-1.32.1 opentelemetry-instrumentation-0.53b1 opentelemetry-instrumentation-asgi-0.53b1 opentelemetry-instrumentation-fastapi-0.53b1 opentelemetry-proto-1.32.1 opentelemetry-sdk-1.32.1 opentelemetry-semantic-conventions-0.53b1 opentelemetry-util-http-0.53b1 overrides-7.7.0 pandas-2.2.3 pillow-11.2.1 posthog-3.25.0 protobuf-5.29.4 pyasn1-0.6.1 pyasn1-modules-0.4.2 pyparsing-3.2.3 pypika-0.48.9 pyproject_hooks-1.2.0 pytz-2025.2 referencing-0.36.2 requests-oauthlib-2.0.0 rich-14.0.0 rpds-py-0.24.0 rsa-4.9.1 shellingham-1.5.4 starlette-0.45.3 sympy-1.13.3 tokenizers-0.21.1 typer-0.15.2 tzdata-2025.2 uvicorn-0.34.2 uvloop-0.21.0 watchfiles-1.0.5 websocket-client-1.8.0 websockets-15.0.1 wrapt-1.17.2 zipp-3.21.0\n",
      "\n",
      "\u001b[1m[\u001b[0m\u001b[34;49mnotice\u001b[0m\u001b[1;39;49m]\u001b[0m\u001b[39;49m A new release of pip is available: \u001b[0m\u001b[31;49m24.0\u001b[0m\u001b[39;49m -> \u001b[0m\u001b[32;49m25.0.1\u001b[0m\n",
      "\u001b[1m[\u001b[0m\u001b[34;49mnotice\u001b[0m\u001b[1;39;49m]\u001b[0m\u001b[39;49m To update, run: \u001b[0m\u001b[32;49mpip install --upgrade pip\u001b[0m\n"
     ]
    }
   ],
   "source": [
    "!pip install langchain langchain_openai langsmith pandas langchain_experimental matplotlib langgraph langchain_core duckduckgo-search langchain-community chromadb"
   ]
  },
  {
   "cell_type": "code",
   "execution_count": 29,
   "metadata": {},
   "outputs": [
    {
     "data": {
      "text/plain": [
       "True"
      ]
     },
     "execution_count": 29,
     "metadata": {},
     "output_type": "execute_result"
    }
   ],
   "source": [
    "import dotenv\n",
    "dotenv.load_dotenv()"
   ]
  },
  {
   "cell_type": "markdown",
   "metadata": {},
   "source": [
    "# DuckDuckGo Search"
   ]
  },
  {
   "cell_type": "code",
   "execution_count": 3,
   "metadata": {},
   "outputs": [
    {
     "data": {
      "text/plain": [
       "\"The White House, official residence of the president of the United States. The president of the United States is the head of state and head of government of the United States, [1] indirectly elected to a four-year term via the Electoral College. [2] Under the U.S. Constitution, the officeholder leads the executive branch of the federal government and is the commander-in-chief of the United ... Obama's father, Barack Obama, Sr., was a teenage goatherd in rural Kenya, won a scholarship to study in the United States, and eventually became a senior economist in the Kenyan government.Obama's mother, S. Ann Dunham, grew up in Kansas, Texas, and Washington state before her family settled in Honolulu.In 1960 she and Barack Sr. met in a Russian language class at the University of Hawaii ... The first president of the United States was George Washington, starting in 1789. Franklin Roosevelt was the only president elected for more than two terms. ... Barack Obama: Joseph Biden: Democratic: 2009-2017: Donald Trump: Mike Pence: Republican: 2017-2021: Joseph Biden: Kamala Harris: Democratic: 2021- The Irish Sun, It's a fake Barack Obama's brother posts forged document he claims is ex-president's 'Kenyan birth certificate,' March 11, 2017 Salon, Orly Taitz is at it again , Sept. 4, 2009 Born on August 4, 1961, in Honolulu, Hawaii, Obama is the first president born outside the continental United States. His full name is Barack Hussein Obama II, named after his father. Obama's mother, Ann Dunham, was from Kansas, while his father, Barack Obama Sr., hailed from Kenya.\""
      ]
     },
     "execution_count": 3,
     "metadata": {},
     "output_type": "execute_result"
    }
   ],
   "source": [
    "from langchain_community.tools import DuckDuckGoSearchRun\n",
    "\n",
    "search = DuckDuckGoSearchRun()\n",
    "search.invoke(\"Obama's first name?\")"
   ]
  },
  {
   "cell_type": "code",
   "execution_count": 27,
   "metadata": {},
   "outputs": [
    {
     "data": {
      "text/plain": [
       "'버락 오바마는 미국 역사상 최초로 흑인 대통령으로서, 미국 사회와 정치에 깊은 영향을 미친 인물입니다. \"Yes, We Can!\"이라는 캠페인 슬로건을 내세우며, 변화와 희망을 약속한 오바마의 임기는 8년간 지속되었고, 많은 이들에게 영감을 주었습니다. 오바마는 제44대 대통령으로서 재임 기간 동안 경제적 보수 성향이 강했던 미국을 진보적인 방향으로 이끌었으며, 사회적 평등과 의료 개혁을 위한 여러 중요한 정책을 추진했습니다. 오바마의 임기 후반, \"Yes! We Did It!\"이라며 고별 연설을 통해 달성한 성과를 자랑스럽게 선언했으며, 오바마가 남긴 유산은 오늘날까지 미국 사회에 큰 영향을 미치고 있습니다. 나가사키현 운젠시에 있는 온천 이름. 일본에서 제일 뜨거운 온천으로 알려져 있다. 원천의 온도가 무려 105℃에 이른다. 버락 후세인 오바마(Barack Hussein Obama) 미국 제44대 대통령은 미국 정치와 민주당의 기념비적인 인물입니다. 2008년 당선된 오바마는 희망과 변화의 이상을 구현하면서 최초의 아프리카계 미국인 대통령으로서 역사적 장벽을 허물었습니다. 그의 대통령 임기는 2009년부터 2017년까지 두 차례에 걸쳐 이루어졌으며 중요한 입법 성과, 외교 정책 이니셔티브, 21세기 민주당을 재정의한 카리스마 넘치는 리더십 스타일로 특징지어졌습니다. 1961년 8월 4일 하와이 호놀룰루에서 태어난 오바마의 초기 생애는 다문화 배경과 다양한 경험으로 특징지어졌습니다. 버락 오바마는 미국의 제44대 대통령으로서 버락 오바마의 슬로건 \"Yes, We Can!\"으로 전 세계의 이목을 집중시켰다. 2009년부터 2017년까지 대통령직을 수행한 오바마는 역대 미국 대통령 중 최초이자 현재까지 유일한 흑인 대통령으로, 버락 오바마의 재임 기간 동안 많은 변화를 이끌어냈다. 버락 오바마는 고별 연설에서 \"Yes! We did it!\"이라며 임기 동안 이룬 성과를 되새기며 미국 국민과 함께한 여정을 마무리했다. 오바마의 대통령 재임 기간은 미국 현대 정치사에서 중요한 전환점으로 평가된다. 버락 후세인 오바마 2세는 미국의 제44대 대통령으로, 역사상 최초의 흑인 대통령으로서 세계적인 주목을 받았습니다. 1961년 8월 4일 하와이 호놀룰루에서 태어난 그는 다양한 문화적 배경 속에서 성장하며 독특한 시각을 갖추게 되었습니다. 컬럼비아 대학교와 하버드 로스쿨을 졸업한 오바마는 법률가로서의 경력을 쌓으며 시카고에서 지역사회 활동에 헌신했습니다. 2004년 연방 상원의원으로 당선된 후, 2008년 대통령 선거에서 역사적인 승리를 거두며 미국 정치의 새로운 시대를 열었습니다.'"
      ]
     },
     "execution_count": 27,
     "metadata": {},
     "output_type": "execute_result"
    }
   ],
   "source": [
    "from langchain_community.tools import DuckDuckGoSearchRun\n",
    "\n",
    "search = DuckDuckGoSearchRun()\n",
    "search.invoke(\"오바마의 이름이 뭐야?\")"
   ]
  },
  {
   "cell_type": "markdown",
   "metadata": {},
   "source": [
    "추가적인 정보 (link, source)를 얻기 위해 DuckDuckGoSearchResults()를 사용"
   ]
  },
  {
   "cell_type": "code",
   "execution_count": 28,
   "metadata": {},
   "outputs": [
    {
     "data": {
      "text/plain": [
       "\"snippet: Learn about the life and achievements of Barack Obama, the 44th president of the United States and the first African American to hold the office. Explore his early years, education, political career, books, awards, and more., title: Barack Obama | Biography, Parents, Education, Presidency, Books ..., link: https://www.britannica.com/biography/Barack-Obama, snippet: Michelle Obama hits back at divorce rumors that start when she makes 'a choice for myself' This year, amid Trump's second stint in office, the former first lady has emerged as outspoken as ever ..., title: Michelle Obama again addresses Barack Obama divorce rumors - USA TODAY, link: https://www.usatoday.com/story/entertainment/celebrities/2025/05/02/michelle-obama-barack-obama-divorce-rumors/83405997007/, snippet: Learn about the life and career of Barack Obama, the 44th president of the United States, who rose from humble beginnings to become a best-selling author, a U.S. senator, and a Nobel Peace Prize laureate. Explore his achievements, challenges, and legacy in this comprehensive article from Britannica., title: Barack Obama - 44th President, Political Career, Legacy | Britannica, link: https://www.britannica.com/biography/Barack-Obama/Politics-and-ascent-to-the-presidency, snippet: Former President Obama is beginning to campaign for Vice President Harris in battleground states, with Democrats hoping he can be a closer in the race against former President Trump., title: Democrats see Obama as their closer against Trump - The Hill, link: https://thehill.com/homenews/campaign/4916769-obama-key-democratic-campaign/\""
      ]
     },
     "execution_count": 28,
     "metadata": {},
     "output_type": "execute_result"
    }
   ],
   "source": [
    "from langchain_community.tools import DuckDuckGoSearchResults\n",
    "\n",
    "search = DuckDuckGoSearchResults()\n",
    "\n",
    "search.invoke(\"Obama\")"
   ]
  },
  {
   "cell_type": "code",
   "execution_count": 6,
   "metadata": {},
   "outputs": [
    {
     "data": {
      "text/plain": [
       "'snippet: 케냐의 경제학자 버락 오바마 시니어 미국 대통령 버락 오바마 의 아버지다. 오바마가 학생이었을 때 케냐 에서 교통사고 로 타계하였고 케냐에 묘소가 있는데 옆에 할아버지 묘소도 있다., title: 오바마 - 나무위키, link: https://namu.wiki/w/오바마, snippet: 오바마 진영은 길고 험난한 선거 기간에도 큰 실수를 범하지 않았고 기본 전략에 큰 변화 없이 충실했으며 거대하고 효율적인 선거 조직을 통해 엄청난 양의 선거 자금을 벌어들였고 처음부터 끝까지 지속적이고 안정적인 메시지를 유지해 전체적으로 매우 절제 ..., title: 버락 오바마/생애 - 나무위키, link: https://namu.wiki/w/버락+오바마/생애, snippet: 오바마케어 라이트\"라고도 별명이 붙어서 티파티 측에서도 너무 오바마케어 같다고 난리고, 민주당과 일부 공화당은 오바마케어의 중요한 부분을 없애서 실용성만 감소시켰다며 비판하고 있다. 현재 하원 435석 중에서 공화당이 240석으로 과반수를 차지하고 ..., title: 오바마케어 - 나무위키, link: https://namu.wiki/w/오바마케어, snippet: 버락 오바마는 미국의 44대 대통령으로, 그의 재임 기간 동안 여러 가지 주요 정책과 성과를 이루었습니다. 이번 글에서는 그의 주요 업적을 다섯 가지 소제목으로 나누어 자세히 살펴보겠습니다.버락 오바마 업적 5가지 1. 오바마케어: 의료 개혁의 상징버락 오바마의 가장 큰 국내 정책 중 하나는 ..., title: 미국의 44대 대통령 버락 오바마의 업적 Best 5가지/세계 위인, link: https://nangman87.tistory.com/entry/미국의-44대-대통령-버락-오바마의-업적-BEST-5가지세계-위인'"
      ]
     },
     "execution_count": 6,
     "metadata": {},
     "output_type": "execute_result"
    }
   ],
   "source": [
    "search.invoke(\"오바마\")"
   ]
  },
  {
   "cell_type": "markdown",
   "metadata": {},
   "source": [
    "뉴스 기사만 검색하는 경우 키워드 backend='news'를 사용"
   ]
  },
  {
   "cell_type": "code",
   "execution_count": 7,
   "metadata": {},
   "outputs": [
    {
     "data": {
      "text/plain": [
       "'snippet: Table for two!   Barack Obama was spotted on a date night with his wife, Michelle, at a bustling Washington, DC, restaurant — the same one where the former prez dined solo when divorce rumors were in full swing., title: Barack, Michelle Obama spotted on date night in DC restaurant where former prez dined alone as divorce rumors swirled, link: https://www.msn.com/en-us/news/politics/barack-michelle-obama-spotted-on-date-night-in-dc-restaurant-where-former-prez-dined-alone-as-divorce-rumors-swirled/ar-AA1DnSbV, date: 2025-04-22T11:51:08+00:00, source: New York Post, snippet: U.S. Sen. Chris Van Hollen unsuccessfully lobbied the Salvadoran government for Abrego Garcia\\'s return. He told NBC\\'s \"Meet the Press\" on Sunday that the U.S. is facing a \"constitutional crisis\" if the Trump administration does not follow the Supreme Court\\'s order to push to bring Abrego Garcia back., title: Obama staffer says the unthinkable of Joe Rogan, link: https://www.nj.com/politics/2025/04/obama-staffer-says-the-unthinkable-of-joe-rogan.html, date: 2025-04-21T16:12:00+00:00, source: NJ.com, snippet: Princess Diana biographer Tina Brown claimed the \"too damn impatient\" Duchess of Sussex is \"unadvisable\" and has \"worn out her advisory circle.\", title: \\'Enormously shallow\\' Meghan Markle is trying to be the next Beyoncé or Michelle Obama, royal expert claims, link: https://pagesix.com/2025/04/22/royal-family/shallow-meghan-markle-is-trying-to-be-next-beyonce-michelle-obama-royal-expert/, date: 2025-04-22T13:27:00+00:00, source: Page Six, snippet: Barack and Michelle Obama\\'s daughters seemingly celebrated the holiday without their parents, who do not reside in California., title: Malia and Sasha Obama enjoy Easter picnic with pals in LA, link: https://www.msn.com/en-us/entertainment/entertainment-celebrity/malia-and-sasha-obama-enjoy-easter-picnic-with-pals-in-la/ar-AA1DkI1i, date: 2025-04-21T18:32:00+00:00, source: Page Six'"
      ]
     },
     "execution_count": 7,
     "metadata": {},
     "output_type": "execute_result"
    }
   ],
   "source": [
    "search = DuckDuckGoSearchResults(backend=\"news\")\n",
    "\n",
    "search.invoke(\"Obama\")"
   ]
  },
  {
   "cell_type": "code",
   "execution_count": 8,
   "metadata": {},
   "outputs": [
    {
     "data": {
      "text/plain": [
       "'snippet: 버락 오바마 전 대통령과 부인 미셸 오바마 여사가 최근 각종 공식 행사에서 따로 나타나며 \\'이혼설\\'이 퍼지고 있다. 이런 가운데 미셸은 최근 \"남편 일정에 불참했다고 우리 부부가 이혼했다고 생각하느냐\"며 이혼설을 일축했지만, 일각에선 이런 해명이 오히려 논란을 키웠다는 지적이 나온다., title: 오바마, 애니스턴과 불륜? 미셸의 부인에도 커지는 이혼설, link: https://www.msn.com/ko-kr/news/world/오바마-애니스턴과-불륜-미셸의-부인에도-커지는-이혼설/ar-AA1CQ4G5, date: 2025-04-13T15:53:00+00:00, source: 조선일보, snippet: 버락 오바마 전 미국 대통령의 부인 미셸 오바마 여사가 \\'나 홀로 행보\\'로 인해 불거진 이혼설을 일축했다. 9일(현지시간) CNN에 따르면 오바마 여사는 이날 공개된 팟캐스트에서 \"사람들은 내가 내린 결정을 이해하지 못하고, 남편과 이혼을 했다고 추정해버린다\"고 말했다. 오바마 전 대통령의 이혼설은 올해 초부터 나왔다. 지난 1월 지미 카터 전 대통령의 장, title: \\'이혼설\\' 미셸 오바마 입 열었다…트럼프 취임-카터 장례식 불참 왜, link: https://www.koreadaily.com/article/20250409205049729, date: 2025-04-10T03:50:00+00:00, source: 중앙일보, snippet: (서울=연합뉴스) 서혜림 기자 = 버락 오바마 전 미국 대통령이 모교인 하버드 대학교에 대한 도널드 트럼프 행정부의 정책 변경 요구를 \\'불법적 억압\\'이라고 규정하며 정면 비판했다. 오바마 전 대통령은 15일(현지시간) 엑스(X·옛 트위터)에 올린 글을 통해 \"하버드는 학문의 자유를 억압하려는 불법적이고 거친 시도를 거부하는 동시에 모든 하버드 학생이 지적, title: \\'하버드 동문\\' 오바마, 트럼프 저격…\"학문의 자유 불법적 억압\", link: https://www.koreadaily.com/article/20250415191245784, date: 2025-04-16T02:25:00+00:00, source: 중앙일보, snippet: 버락 오바마(63) 미국 전 대통령이 할리우드 배우 제니퍼 애니스톤(56)과 불륜설에 다시 휩싸이면서 부인 미셸 오바마와의 이혼설이 또 수면 위로 떠오르고 있다. 14일(현지 시간) 외신 등에 따르면 오바마 전 대통령과 애니스톤의 불륜설은 지난해 8월 시작됐다. 미국 잡지 \\'인터치\\'는 \"미셸 오바마가 배신을 당했다\"는 표현과 함께 오바마 전 대통령과 애니스, title: 국가 행사에 홀로?…오바마, 美 여배우와 또 불륜설, link: https://www.msn.com/ko-kr/news/world/국가-행사에-홀로-오바마-美-여배우와-또-불륜설/ar-AA1CYEnH, date: 2025-04-15T18:00:00+00:00, source: 뉴시스'"
      ]
     },
     "execution_count": 8,
     "metadata": {},
     "output_type": "execute_result"
    }
   ],
   "source": [
    "search.invoke(\"오바마\")"
   ]
  },
  {
   "cell_type": "markdown",
   "metadata": {},
   "source": [
    "검색 결과에 더 많은 제어를 제공하기 위해, 맞춤형 DuckDuckGoSearchAPIWrapper를 DuckDuckGoSearchResults에 직접 전달 가능"
   ]
  },
  {
   "cell_type": "code",
   "execution_count": 11,
   "metadata": {},
   "outputs": [
    {
     "data": {
      "text/plain": [
       "\"snippet: Die Verhandlungen mit Teheran laufen offenbar geschmeidig. Ein Kompromiss liegt in der Luft. Das hätte Trump leichter haben können., title: Atomgespräche mit Iran: Nimmt Trump sich Obama zum Vorbild?, link: https://www.faz.net/aktuell/politik/usa-unter-trump/atomgespraeche-mit-iran-nimmt-trump-sich-obama-zum-vorbild-110430892.html, snippet: Malia (26) und Sasha Obama (23) haben den Ostersonntag in Los Angeles verbracht - fernab vom politischen Rampenlicht in Washington und ihren berühmten Eltern, Ex-Präsident Barack Obama (63 ..., title: Seltene Fotos: Sasha und Malia Obama genießen Osterpicknick, link: https://www.promiflash.de/news/2025/04/22/seltene-fotos-sasha-und-malia-obama-geniessen-osterpicknick.html, snippet: Jerome Powells beruflicher Werdegang. Der 72-jährige Powell ist seit 2012 Mitglied des Gouverneursrats der US-Notenbank. Damals hat US-Präsident Barack Obama ihn für nominiert, um eine noch nicht zu Ende gebrachte Amtszeit als Mitglied abzuschließen. Im Jahr 2014 wurde er für eine vollständige 14-jährige Amtszeit, die 2028 endet, erneut ernannt., title: Das ist Jerome Powell — der Vorsitzende der Fed, den Trump loswerden ..., link: https://www.businessinsider.de/politik/das-ist-jerome-powell-der-vorsitzende-der-fed-den-trump-loswerden-will/, snippet: Michelle Obama spoke out about an injury Barack Obama suffered during his presidency on a podcast she cohosts with her brother, Craig Robinson.. Why It Matters. During Wednesday's episode of IMO ..., title: Michelle Obama Speaks Out on Barack Injury - Newsweek, link: https://www.newsweek.com/barack-obama-injury-stitches-2062373\""
      ]
     },
     "execution_count": 11,
     "metadata": {},
     "output_type": "execute_result"
    }
   ],
   "source": [
    "from langchain_community.utilities import DuckDuckGoSearchAPIWrapper\n",
    "\n",
    "wrapper = DuckDuckGoSearchAPIWrapper(region=\"de-de\", time=\"d\", max_results=2)\n",
    "search = DuckDuckGoSearchResults(api_wrapper=wrapper, source=\"news\")\n",
    "search.invoke(\"obama\")"
   ]
  },
  {
   "cell_type": "markdown",
   "metadata": {},
   "source": [
    "# LLM 연동"
   ]
  },
  {
   "cell_type": "code",
   "execution_count": 12,
   "metadata": {},
   "outputs": [],
   "source": [
    "from langchain_openai import ChatOpenAI\n",
    "\n",
    "llm = ChatOpenAI(\n",
    "    model=\"gpt-4o-mini\",\n",
    "    temperature=0,\n",
    ")"
   ]
  },
  {
   "cell_type": "code",
   "execution_count": 13,
   "metadata": {},
   "outputs": [
    {
     "data": {
      "text/plain": [
       "AIMessage(content='\"오징어 게임\" 시즌 2의 공식 출시일은 아직 발표되지 않았습니다. 제작자와 넷플릭스는 시즌 2의 제작이 진행 중임을 밝혔지만, 구체적인 날짜는 공개되지 않았습니다. 최신 정보를 확인하려면 넷플릭스의 공식 발표나 관련 뉴스를 주시하는 것이 좋습니다.', additional_kwargs={'refusal': None}, response_metadata={'token_usage': {'completion_tokens': 78, 'prompt_tokens': 19, 'total_tokens': 97, 'completion_tokens_details': {'accepted_prediction_tokens': 0, 'audio_tokens': 0, 'reasoning_tokens': 0, 'rejected_prediction_tokens': 0}, 'prompt_tokens_details': {'audio_tokens': 0, 'cached_tokens': 0}}, 'model_name': 'gpt-4o-mini-2024-07-18', 'system_fingerprint': 'fp_0392822090', 'id': 'chatcmpl-BP8tGZ0y7ICoW9wxyec2tlkq7p6ag', 'finish_reason': 'stop', 'logprobs': None}, id='run-1ff7093d-3741-4163-a81a-f1d5300e6b1f-0', usage_metadata={'input_tokens': 19, 'output_tokens': 78, 'total_tokens': 97, 'input_token_details': {'audio': 0, 'cache_read': 0}, 'output_token_details': {'audio': 0, 'reasoning': 0}})"
      ]
     },
     "execution_count": 13,
     "metadata": {},
     "output_type": "execute_result"
    }
   ],
   "source": [
    "llm.invoke(\"오징어게임 2 출시일이 언제야?\")"
   ]
  },
  {
   "cell_type": "code",
   "execution_count": 14,
   "metadata": {},
   "outputs": [
    {
     "data": {
      "text/plain": [
       "\"'오징어게임 시즌2'는 2024년 12월 26일 넷플릭스에서 전 세계적으로 공개됩니다. 2021년 9월 17일 첫 시즌 공개 이후, 3년 만에 돌아오는 이번 시즌은 9부작으로 구성되며 시즌1의 긴장감 넘치는 서바이벌 게임을 한층 확장시킨 새로운 에피소드를 선보일 예정입니다. 넷플릭스는 파업 등의 영향으로 일부 콘텐츠의 공개가 연기됐음에도 불구하고, 이번 시즌을 위해 제작 스케줄을 철저히 조정하며 2024년 하반기 대표작으로 준비했습니다. 이정재: 다시 게임에 참가하는 '성기훈' 역. 시즌1의 마지막 생존자로 복수를 결의한 그의 행보가 주요 축이 될 전망. 박성훈: 성확정 수술을 위해 돈을 벌려는 트랜스젠더 '현주' 역. 시즌2는 오늘 (12월 26일) 오후 5시 (한국 시간), 전 세계 동시 공개를 통해 새로운 기록을 향한 여정을 시작합니다. 이번 시즌은 총 9부작으로 구성되어 있으며, 서바이벌 게임의 긴장감을 극대화하는 새로운 에피소드와 예상을 뛰어넘는 전개로 시청자를 사로잡을 예정입니다. 이정재 (성기훈 역): 시즌1에서 마지막 생존자로 남아 복수를 다짐하며 다시 게임에 참가. 이병헌 (프론트맨 역): 게임의 총괄자로서 더욱 확장된 서사와 강렬한 존재감을 예고. 위하준 (황준호 역): 형제 관계의 비밀을 풀기 위해 복귀하는 강력계 형사. 공유 (초대장 전달자): 짧지만 강렬한 장면으로 다시 한 번 미스터리를 더할 예정. 오징어게임 시즌2 공개 일정공개일: 2024년 12월 26일공개 시간: 오후 5시 (한국 시간)플랫폼: 넷플릭스 독점 공개에피소드 수: 총 7부작공개 방식: 모든 에피소드 동시 공개오랜 기다림 끝에 2024년 12월 26일, 드디어 오징어게임 시즌2가 전 세계 팬들을 ... 넷플릭스는 1일 '오징어 게임' 시즌2를 오는 12월 26일 공개하고, 시즌3은 내년 중 공개한다고 밝혔다. '오징어 게임'을 연출한 황동혁 감독은 편지를 통해 시즌2와 시즌3를 선보이는 진심 어린 소감을 전했다. 이번 글에서는 오징어 게임 시즌 2의 공개일, 개봉시간, 그리고 시청 꿀팁을 꼼꼼히 정리해 보겠습니다.📅 오징어 게임 시즌 2 공개일 및 개봉시간시즌 2 공개일날짜: 2024년 12월 26일 (목요일)시간: 한국 시간 오후 5시플랫폼: 넷플릭스 (전 세계 동시 공개 ...\""
      ]
     },
     "execution_count": 14,
     "metadata": {},
     "output_type": "execute_result"
    }
   ],
   "source": [
    "from langchain_community.tools import DuckDuckGoSearchRun\n",
    "\n",
    "tool = DuckDuckGoSearchRun()\n",
    "tools = [tool]\n",
    "tool.invoke(\"오징어게임 2 출시일이 언제야?\")"
   ]
  },
  {
   "cell_type": "code",
   "execution_count": 16,
   "metadata": {},
   "outputs": [],
   "source": [
    "llm_with_tools = llm.bind_tools(tools)"
   ]
  },
  {
   "cell_type": "code",
   "execution_count": 17,
   "metadata": {},
   "outputs": [
    {
     "name": "stdout",
     "output_type": "stream",
     "text": [
      "================================\u001b[1m System Message \u001b[0m================================\n",
      "\n",
      "You are a helpful assistant.\n",
      "\n",
      "================================\u001b[1m Human Message \u001b[0m=================================\n",
      "\n",
      "\u001b[33;1m\u001b[1;3m{input}\u001b[0m\n",
      "\n",
      "=============================\u001b[1m Messages Placeholder \u001b[0m=============================\n",
      "\n",
      "\u001b[33;1m\u001b[1;3m{agent_scratchpad}\u001b[0m\n"
     ]
    }
   ],
   "source": [
    "from langchain import hub\n",
    "\n",
    "prompt = hub.pull(\"wfh/langsmith-agent-prompt:5d466cbc\")\n",
    "prompt.pretty_print()"
   ]
  },
  {
   "cell_type": "code",
   "execution_count": 24,
   "metadata": {},
   "outputs": [],
   "source": [
    "from langchain.agents import AgentExecutor\n",
    "from langchain.agents.format_scratchpad.openai_tools import(\n",
    "    format_to_openai_tool_messages,\n",
    ")\n",
    "# OpenAI Function-Calling 모델 사용 시\n",
    "from langchain.agents.output_parsers.openai_tools import OpenAIToolsAgentOutputParser\n",
    "\n",
    "\n",
    "runnable_agent = (\n",
    "    {\n",
    "        \"input\": lambda x: x[\"input\"], # 사용자 입력\n",
    "        \"agent_scratchpad\": lambda x: format_to_openai_tool_messages( # 이전 step들 (도구 사용 기록)\n",
    "            x[\"intermediate_steps\"]\n",
    "        ),\n",
    "    }\n",
    "    | prompt # -> 최종 LLM 입력 생성\n",
    "    | llm_with_tools # -> LLM 호출, tool_call 포함 응답 \n",
    "    | OpenAIToolsAgentOutputParser() # -> tool 호출 정보 추출\n",
    ")\n",
    "\n",
    "agent_executor = AgentExecutor(\n",
    "    agent=runnable_agent, tools=tools, handle_parsing_errors=True\n",
    ")"
   ]
  },
  {
   "cell_type": "code",
   "execution_count": 25,
   "metadata": {},
   "outputs": [
    {
     "data": {
      "text/plain": [
       "{'input': '오징어게임 2 출시일이 언제야?',\n",
       " 'output': '오징어게임 시즌 2는 2024년 12월 26일에 넷플릭스를 통해 전 세계에 공개됩니다. 이번 시즌은 시즌 1의 우승자 성기훈(이정재)이 게임 우승 후 3년 뒤의 이야기를 중심으로 진행되며, 새로운 게임과 참가자들이 등장할 예정입니다.'}"
      ]
     },
     "execution_count": 25,
     "metadata": {},
     "output_type": "execute_result"
    }
   ],
   "source": [
    "results = agent_executor.invoke({\"input\":\"오징어게임 2 출시일이 언제야?\"})\n",
    "results"
   ]
  },
  {
   "cell_type": "markdown",
   "metadata": {},
   "source": [
    "User: 서울 날씨 알려줘\n",
    "\n",
    "→ [prompt 생성]\n",
    "→ [LLM 실행 → tool_call: search(query=\"서울 날씨\")]\n",
    "→ [tool 실행: DuckDuckGo → \"현재 날씨는 맑음입니다\"]\n",
    "→ [LLM 재호출 → 최종 답변 생성]\n",
    "→ Output: \"서울은 지금 맑은 날씨입니다 ☀️\""
   ]
  },
  {
   "cell_type": "markdown",
   "metadata": {},
   "source": [
    "# Tavily Search"
   ]
  },
  {
   "cell_type": "code",
   "execution_count": 31,
   "metadata": {},
   "outputs": [],
   "source": [
    "from langchain_community.tools import TavilySearchResults\n",
    "\n",
    "tool = TavilySearchResults(\n",
    "    max_results=5\n",
    ")"
   ]
  },
  {
   "cell_type": "code",
   "execution_count": 32,
   "metadata": {},
   "outputs": [
    {
     "data": {
      "text/plain": [
       "[{'title': '오바마, 역경 딛고 미국 첫 흑인 재선 대통령 - VOA 한국어',\n",
       "  'url': 'https://www.voakorea.com/a/1587744.html',\n",
       "  'content': \"아버지의 이름을 그대로 물려받은 오바마의 이름 '바락'은 아프리카어로 '축복받은 사람'이라는 의미를 갖고 있지만, 어린 시절은 그리 순탄치 않았습니다\",\n",
       "  'score': 0.7763013},\n",
       " {'title': \"오바마 美 대통령, 한국이름은 '오한마'…“한문이름 아쉽다” - 프라임경제\",\n",
       "  'url': 'https://m.newsprime.co.kr/section_view.html?no=171994&menu=index',\n",
       "  'content': \"협회에 따르면 오바마의 첫글자를 따 '나라 오(吳)'씨를 성씨로 정했으며 이름에 나라 한(韓)자와 말 마(馬)를 써서 미국의 상징인 '말'을 표현했다.\",\n",
       "  'score': 0.7742597},\n",
       " {'title': '오바마 \"내 이름이 후세인인 이유가 있다\"…케냐서 첫 연설 - 연합뉴스',\n",
       "  'url': 'https://www.yna.co.kr/view/AKR20150725049300009',\n",
       "  'content': '케냐에서의 첫 공식 코멘트인 정상회의 연설에서 그는 \"내 이름이 \\'버락 후세인 오바마\\'인 데는 이유가 있다\"며 거듭 케냐와 자신의 인연을 강조했다.',\n",
       "  'score': 0.64182705},\n",
       " {'title': \"한국 언론은 '버락' 오바마를 민다? - 오마이뉴스\",\n",
       "  'url': 'https://www.ohmynews.com/NWS_Web/View/at_pg.aspx?CNTN_CD=A0000808336',\n",
       "  'content': '그는 버락 후세인 오바마(Barack Hussein Obama) 미 상원의원이다. 미 상원의원 100명 가운데 한 명이자 초선 의원에 불과한 그를 많은 미국인이 주시하고',\n",
       "  'score': 0.61695945},\n",
       " {'title': '미국 44대 대통령 버락 오바마(Barack Obama) : 네이버 블로그',\n",
       "  'url': 'https://blog.naver.com/nahoii/40061830785?viewType=pc',\n",
       "  'content': '버락 후세인 오바마 2세(Barack Hussein Obama II). 1961년 8월 4일생인 오바마는 미합중국의 44대 대통령이다. 그는 대통령이 된 최초의 아프라카계',\n",
       "  'score': 0.5835125}]"
      ]
     },
     "execution_count": 32,
     "metadata": {},
     "output_type": "execute_result"
    }
   ],
   "source": [
    "tool.invoke({\"query\":\"오바마의 이름이 뭐야?\"})"
   ]
  },
  {
   "cell_type": "markdown",
   "metadata": {},
   "source": [
    "## LLM 연동"
   ]
  },
  {
   "cell_type": "code",
   "execution_count": 36,
   "metadata": {},
   "outputs": [
    {
     "name": "stdout",
     "output_type": "stream",
     "text": [
      "Requirement already satisfied: langchain-core in /Users/kimdonghyeon/Library/Caches/pypoetry/virtualenvs/ai-agent-W5GxBq27-py3.12/lib/python3.12/site-packages (0.3.51)\n",
      "Collecting langchain-core\n",
      "  Downloading langchain_core-0.3.58-py3-none-any.whl.metadata (5.9 kB)\n",
      "Requirement already satisfied: langchain in /Users/kimdonghyeon/Library/Caches/pypoetry/virtualenvs/ai-agent-W5GxBq27-py3.12/lib/python3.12/site-packages (0.3.23)\n",
      "Collecting langchain\n",
      "  Downloading langchain-0.3.25-py3-none-any.whl.metadata (7.8 kB)\n",
      "Requirement already satisfied: openai in /Users/kimdonghyeon/Library/Caches/pypoetry/virtualenvs/ai-agent-W5GxBq27-py3.12/lib/python3.12/site-packages (1.73.0)\n",
      "Collecting openai\n",
      "  Downloading openai-1.77.0-py3-none-any.whl.metadata (25 kB)\n",
      "Requirement already satisfied: langsmith<0.4,>=0.1.125 in /Users/kimdonghyeon/Library/Caches/pypoetry/virtualenvs/ai-agent-W5GxBq27-py3.12/lib/python3.12/site-packages (from langchain-core) (0.3.30)\n",
      "Requirement already satisfied: tenacity!=8.4.0,<10.0.0,>=8.1.0 in /Users/kimdonghyeon/Library/Caches/pypoetry/virtualenvs/ai-agent-W5GxBq27-py3.12/lib/python3.12/site-packages (from langchain-core) (9.1.2)\n",
      "Requirement already satisfied: jsonpatch<2.0,>=1.33 in /Users/kimdonghyeon/Library/Caches/pypoetry/virtualenvs/ai-agent-W5GxBq27-py3.12/lib/python3.12/site-packages (from langchain-core) (1.33)\n",
      "Requirement already satisfied: PyYAML>=5.3 in /Users/kimdonghyeon/Library/Caches/pypoetry/virtualenvs/ai-agent-W5GxBq27-py3.12/lib/python3.12/site-packages (from langchain-core) (6.0.2)\n",
      "Requirement already satisfied: packaging<25,>=23.2 in /Users/kimdonghyeon/Library/Caches/pypoetry/virtualenvs/ai-agent-W5GxBq27-py3.12/lib/python3.12/site-packages (from langchain-core) (24.2)\n",
      "Requirement already satisfied: typing-extensions>=4.7 in /Users/kimdonghyeon/Library/Caches/pypoetry/virtualenvs/ai-agent-W5GxBq27-py3.12/lib/python3.12/site-packages (from langchain-core) (4.13.2)\n",
      "Requirement already satisfied: pydantic<3.0.0,>=2.7.4 in /Users/kimdonghyeon/Library/Caches/pypoetry/virtualenvs/ai-agent-W5GxBq27-py3.12/lib/python3.12/site-packages (from langchain-core) (2.11.3)\n",
      "Requirement already satisfied: langchain-text-splitters<1.0.0,>=0.3.8 in /Users/kimdonghyeon/Library/Caches/pypoetry/virtualenvs/ai-agent-W5GxBq27-py3.12/lib/python3.12/site-packages (from langchain) (0.3.8)\n",
      "Requirement already satisfied: SQLAlchemy<3,>=1.4 in /Users/kimdonghyeon/Library/Caches/pypoetry/virtualenvs/ai-agent-W5GxBq27-py3.12/lib/python3.12/site-packages (from langchain) (2.0.40)\n",
      "Requirement already satisfied: requests<3,>=2 in /Users/kimdonghyeon/Library/Caches/pypoetry/virtualenvs/ai-agent-W5GxBq27-py3.12/lib/python3.12/site-packages (from langchain) (2.32.3)\n",
      "Requirement already satisfied: anyio<5,>=3.5.0 in /Users/kimdonghyeon/Library/Caches/pypoetry/virtualenvs/ai-agent-W5GxBq27-py3.12/lib/python3.12/site-packages (from openai) (4.9.0)\n",
      "Requirement already satisfied: distro<2,>=1.7.0 in /Users/kimdonghyeon/Library/Caches/pypoetry/virtualenvs/ai-agent-W5GxBq27-py3.12/lib/python3.12/site-packages (from openai) (1.9.0)\n",
      "Requirement already satisfied: httpx<1,>=0.23.0 in /Users/kimdonghyeon/Library/Caches/pypoetry/virtualenvs/ai-agent-W5GxBq27-py3.12/lib/python3.12/site-packages (from openai) (0.28.1)\n",
      "Requirement already satisfied: jiter<1,>=0.4.0 in /Users/kimdonghyeon/Library/Caches/pypoetry/virtualenvs/ai-agent-W5GxBq27-py3.12/lib/python3.12/site-packages (from openai) (0.9.0)\n",
      "Requirement already satisfied: sniffio in /Users/kimdonghyeon/Library/Caches/pypoetry/virtualenvs/ai-agent-W5GxBq27-py3.12/lib/python3.12/site-packages (from openai) (1.3.1)\n",
      "Requirement already satisfied: tqdm>4 in /Users/kimdonghyeon/Library/Caches/pypoetry/virtualenvs/ai-agent-W5GxBq27-py3.12/lib/python3.12/site-packages (from openai) (4.67.1)\n",
      "Requirement already satisfied: idna>=2.8 in /Users/kimdonghyeon/Library/Caches/pypoetry/virtualenvs/ai-agent-W5GxBq27-py3.12/lib/python3.12/site-packages (from anyio<5,>=3.5.0->openai) (3.10)\n",
      "Requirement already satisfied: certifi in /Users/kimdonghyeon/Library/Caches/pypoetry/virtualenvs/ai-agent-W5GxBq27-py3.12/lib/python3.12/site-packages (from httpx<1,>=0.23.0->openai) (2025.1.31)\n",
      "Requirement already satisfied: httpcore==1.* in /Users/kimdonghyeon/Library/Caches/pypoetry/virtualenvs/ai-agent-W5GxBq27-py3.12/lib/python3.12/site-packages (from httpx<1,>=0.23.0->openai) (1.0.8)\n",
      "Requirement already satisfied: h11<0.15,>=0.13 in /Users/kimdonghyeon/Library/Caches/pypoetry/virtualenvs/ai-agent-W5GxBq27-py3.12/lib/python3.12/site-packages (from httpcore==1.*->httpx<1,>=0.23.0->openai) (0.14.0)\n",
      "Requirement already satisfied: jsonpointer>=1.9 in /Users/kimdonghyeon/Library/Caches/pypoetry/virtualenvs/ai-agent-W5GxBq27-py3.12/lib/python3.12/site-packages (from jsonpatch<2.0,>=1.33->langchain-core) (3.0.0)\n",
      "Requirement already satisfied: orjson<4.0.0,>=3.9.14 in /Users/kimdonghyeon/Library/Caches/pypoetry/virtualenvs/ai-agent-W5GxBq27-py3.12/lib/python3.12/site-packages (from langsmith<0.4,>=0.1.125->langchain-core) (3.10.16)\n",
      "Requirement already satisfied: requests-toolbelt<2.0.0,>=1.0.0 in /Users/kimdonghyeon/Library/Caches/pypoetry/virtualenvs/ai-agent-W5GxBq27-py3.12/lib/python3.12/site-packages (from langsmith<0.4,>=0.1.125->langchain-core) (1.0.0)\n",
      "Requirement already satisfied: zstandard<0.24.0,>=0.23.0 in /Users/kimdonghyeon/Library/Caches/pypoetry/virtualenvs/ai-agent-W5GxBq27-py3.12/lib/python3.12/site-packages (from langsmith<0.4,>=0.1.125->langchain-core) (0.23.0)\n",
      "Requirement already satisfied: annotated-types>=0.6.0 in /Users/kimdonghyeon/Library/Caches/pypoetry/virtualenvs/ai-agent-W5GxBq27-py3.12/lib/python3.12/site-packages (from pydantic<3.0.0,>=2.7.4->langchain-core) (0.7.0)\n",
      "Requirement already satisfied: pydantic-core==2.33.1 in /Users/kimdonghyeon/Library/Caches/pypoetry/virtualenvs/ai-agent-W5GxBq27-py3.12/lib/python3.12/site-packages (from pydantic<3.0.0,>=2.7.4->langchain-core) (2.33.1)\n",
      "Requirement already satisfied: typing-inspection>=0.4.0 in /Users/kimdonghyeon/Library/Caches/pypoetry/virtualenvs/ai-agent-W5GxBq27-py3.12/lib/python3.12/site-packages (from pydantic<3.0.0,>=2.7.4->langchain-core) (0.4.0)\n",
      "Requirement already satisfied: charset-normalizer<4,>=2 in /Users/kimdonghyeon/Library/Caches/pypoetry/virtualenvs/ai-agent-W5GxBq27-py3.12/lib/python3.12/site-packages (from requests<3,>=2->langchain) (3.4.1)\n",
      "Requirement already satisfied: urllib3<3,>=1.21.1 in /Users/kimdonghyeon/Library/Caches/pypoetry/virtualenvs/ai-agent-W5GxBq27-py3.12/lib/python3.12/site-packages (from requests<3,>=2->langchain) (2.4.0)\n",
      "Downloading langchain_core-0.3.58-py3-none-any.whl (437 kB)\n",
      "\u001b[2K   \u001b[90m━━━━━━━━━━━━━━━━━━━━━━━━━━━━━━━━━━━━━━━━\u001b[0m \u001b[32m437.6/437.6 kB\u001b[0m \u001b[31m2.3 MB/s\u001b[0m eta \u001b[36m0:00:00\u001b[0ma \u001b[36m0:00:01\u001b[0m\n",
      "\u001b[?25hDownloading langchain-0.3.25-py3-none-any.whl (1.0 MB)\n",
      "\u001b[2K   \u001b[90m━━━━━━━━━━━━━━━━━━━━━━━━━━━━━━━━━━━━━━━━\u001b[0m \u001b[32m1.0/1.0 MB\u001b[0m \u001b[31m3.6 MB/s\u001b[0m eta \u001b[36m0:00:00\u001b[0m00:01\u001b[0m00:01\u001b[0m\n",
      "\u001b[?25hDownloading openai-1.77.0-py3-none-any.whl (662 kB)\n",
      "\u001b[2K   \u001b[90m━━━━━━━━━━━━━━━━━━━━━━━━━━━━━━━━━━━━━━━━\u001b[0m \u001b[32m662.0/662.0 kB\u001b[0m \u001b[31m2.7 MB/s\u001b[0m eta \u001b[36m0:00:00\u001b[0ma \u001b[36m0:00:01\u001b[0m\n",
      "\u001b[?25hInstalling collected packages: openai, langchain-core, langchain\n",
      "  Attempting uninstall: openai\n",
      "    Found existing installation: openai 1.73.0\n",
      "    Uninstalling openai-1.73.0:\n",
      "      Successfully uninstalled openai-1.73.0\n",
      "  Attempting uninstall: langchain-core\n",
      "    Found existing installation: langchain-core 0.3.51\n",
      "    Uninstalling langchain-core-0.3.51:\n",
      "      Successfully uninstalled langchain-core-0.3.51\n",
      "  Attempting uninstall: langchain\n",
      "    Found existing installation: langchain 0.3.23\n",
      "    Uninstalling langchain-0.3.23:\n",
      "      Successfully uninstalled langchain-0.3.23\n",
      "Successfully installed langchain-0.3.25 langchain-core-0.3.58 openai-1.77.0\n",
      "\n",
      "\u001b[1m[\u001b[0m\u001b[34;49mnotice\u001b[0m\u001b[1;39;49m]\u001b[0m\u001b[39;49m A new release of pip is available: \u001b[0m\u001b[31;49m24.0\u001b[0m\u001b[39;49m -> \u001b[0m\u001b[32;49m25.1.1\u001b[0m\n",
      "\u001b[1m[\u001b[0m\u001b[34;49mnotice\u001b[0m\u001b[1;39;49m]\u001b[0m\u001b[39;49m To update, run: \u001b[0m\u001b[32;49mpip install --upgrade pip\u001b[0m\n",
      "Note: you may need to restart the kernel to use updated packages.\n"
     ]
    }
   ],
   "source": [
    "pip install --upgrade langchain-core langchain openai"
   ]
  },
  {
   "cell_type": "code",
   "execution_count": 45,
   "metadata": {},
   "outputs": [],
   "source": [
    "from langchain_openai import ChatOpenAI\n",
    "\n",
    "llm = ChatOpenAI(\n",
    "    model=\"gpt-4o-mini\",\n",
    "    temperature=0,\n",
    ")"
   ]
  },
  {
   "cell_type": "code",
   "execution_count": 49,
   "metadata": {},
   "outputs": [
    {
     "name": "stdout",
     "output_type": "stream",
     "text": [
      "content='' additional_kwargs={'tool_calls': [{'id': 'call_znKvsbLCBHGZwuAbHBmlsBpQ', 'function': {'arguments': '{\"query\":\"오징어게임 2 출시일\"}', 'name': 'tavily_search_results_json'}, 'type': 'function'}], 'refusal': None} response_metadata={'token_usage': {'completion_tokens': 26, 'prompt_tokens': 108, 'total_tokens': 134, 'completion_tokens_details': {'accepted_prediction_tokens': 0, 'audio_tokens': 0, 'reasoning_tokens': 0, 'rejected_prediction_tokens': 0}, 'prompt_tokens_details': {'audio_tokens': 0, 'cached_tokens': 0}}, 'model_name': 'gpt-4o-mini-2024-07-18', 'system_fingerprint': 'fp_129a36352a', 'id': 'chatcmpl-BTM8gm1Cs2hZC1joRyBCeuvL2rtlp', 'finish_reason': 'tool_calls', 'logprobs': None} id='run-cc392750-1443-4dd7-b62d-ab63d06b4fa7-0' tool_calls=[{'name': 'tavily_search_results_json', 'args': {'query': '오징어게임 2 출시일'}, 'id': 'call_znKvsbLCBHGZwuAbHBmlsBpQ', 'type': 'tool_call'}] usage_metadata={'input_tokens': 108, 'output_tokens': 26, 'total_tokens': 134, 'input_token_details': {'audio': 0, 'cache_read': 0}, 'output_token_details': {'audio': 0, 'reasoning': 0}}\n",
      "[ToolMessage(content='[{\"title\": \"오징어 게임(시즌 2) - 나무위키\", \"url\": \"https://namu.wiki/w/%EC%98%A4%EC%A7%95%EC%96%B4%20%EA%B2%8C%EC%9E%84(%EC%8B%9C%EC%A6%8C%202)\", \"content\": \"공개일. 2024년 12월 26일[1] ; 공개 회차. 7부작 ; 러닝 타임. 430분 (7시간 10분) ; 제작사. ㈜ 퍼스트맨스튜디오 ; 제작비. 약 1,000억 원[2][3].\", \"score\": 0.8943568}, {\"title\": \"[한눈에 이슈] 오징어게임2, 오늘(26일) 전세계 동시 공개 ... - YouTube\", \"url\": \"https://www.youtube.com/watch?v=60tDaQU5LkQ\", \"content\": \"세계적인 신드롬을 만들었던 드라마 시리즈 \\'오징어게임\\'의 후속작 \\'오징어게임2\\'가 한국시간 26일 오후 5시 전 세계에서 동시에 공개됩니다.\", \"score\": 0.8245895}, {\"title\": \"\\'오징어게임2\\' 왜 12월 26일 공개될까…글로벌 기대작된 K드라마\", \"url\": \"https://www.yna.co.kr/view/AKR20241123044700005\", \"content\": \"이 가운데 \\'오징어 게임 2\\'가 12월 말에 공개되는 것은 이 시리즈가 한국만이 아니라 글로벌 시청자를 끌어모을 기대작이라는 뜻을 내포하고 있다. 12월\", \"score\": 0.8036831}, {\"title\": \"넷플릭스 오징어게임 시즌2 몇 부작 공개시간 예고편 살펴보니 시즌1 ...\", \"url\": \"https://blog.naver.com/anthto/223680100656\", \"content\": \"오징어게임 시즌2는 2024년 12월 26일 7부작으로 공개되고 시즌3는 2025년 7부작으로 공개될 예정입니다. 시즌이 너무 질질 끌리지 않고 딱 시즌3에서\", \"score\": 0.8021998}, {\"title\": \"\\'오징어게임 시즌2\\' 후기 엇갈렸다...시즌3 공개일정은?\", \"url\": \"https://www.gukjenews.com/news/articleView.html?idxno=3169630\", \"content\": \"넷플릭스 시리즈 \\'오징어 게임\\' 시즌2(오징어 게임2)가 지난 26일 오후 5시 전세계에 공개됐다.\\'오징어 게임 시즌2\\'는 복수를 다짐하고 다시 돌아와\", \"score\": 0.7623715}]', name='tavily_search_results_json', tool_call_id='call_znKvsbLCBHGZwuAbHBmlsBpQ', artifact={'query': '오징어게임 2 출시일', 'follow_up_questions': None, 'answer': None, 'images': [], 'results': [{'url': 'https://namu.wiki/w/%EC%98%A4%EC%A7%95%EC%96%B4%20%EA%B2%8C%EC%9E%84(%EC%8B%9C%EC%A6%8C%202)', 'title': '오징어 게임(시즌 2) - 나무위키', 'content': '공개일. 2024년 12월 26일[1] ; 공개 회차. 7부작 ; 러닝 타임. 430분 (7시간 10분) ; 제작사. ㈜ 퍼스트맨스튜디오 ; 제작비. 약 1,000억 원[2][3].', 'score': 0.8943568, 'raw_content': None}, {'url': 'https://www.youtube.com/watch?v=60tDaQU5LkQ', 'title': '[한눈에 이슈] 오징어게임2, 오늘(26일) 전세계 동시 공개 ... - YouTube', 'content': \"세계적인 신드롬을 만들었던 드라마 시리즈 '오징어게임'의 후속작 '오징어게임2'가 한국시간 26일 오후 5시 전 세계에서 동시에 공개됩니다.\", 'score': 0.8245895, 'raw_content': None}, {'url': 'https://www.yna.co.kr/view/AKR20241123044700005', 'title': \"'오징어게임2' 왜 12월 26일 공개될까…글로벌 기대작된 K드라마\", 'content': \"이 가운데 '오징어 게임 2'가 12월 말에 공개되는 것은 이 시리즈가 한국만이 아니라 글로벌 시청자를 끌어모을 기대작이라는 뜻을 내포하고 있다. 12월\", 'score': 0.8036831, 'raw_content': None}, {'url': 'https://blog.naver.com/anthto/223680100656', 'title': '넷플릭스 오징어게임 시즌2 몇 부작 공개시간 예고편 살펴보니 시즌1 ...', 'content': '오징어게임 시즌2는 2024년 12월 26일 7부작으로 공개되고 시즌3는 2025년 7부작으로 공개될 예정입니다. 시즌이 너무 질질 끌리지 않고 딱 시즌3에서', 'score': 0.8021998, 'raw_content': None}, {'url': 'https://www.gukjenews.com/news/articleView.html?idxno=3169630', 'title': \"'오징어게임 시즌2' 후기 엇갈렸다...시즌3 공개일정은?\", 'content': \"넷플릭스 시리즈 '오징어 게임' 시즌2(오징어 게임2)가 지난 26일 오후 5시 전세계에 공개됐다.'오징어 게임 시즌2'는 복수를 다짐하고 다시 돌아와\", 'score': 0.7623715, 'raw_content': None}], 'response_time': 2.11})]\n"
     ]
    },
    {
     "data": {
      "text/plain": [
       "AIMessage(content='오징어게임 시즌 2는 2024년 12월 26일에 공개될 예정입니다. 이 시즌은 총 7부작으로 구성되어 있습니다.', additional_kwargs={'refusal': None}, response_metadata={'token_usage': {'completion_tokens': 39, 'prompt_tokens': 778, 'total_tokens': 817, 'completion_tokens_details': {'accepted_prediction_tokens': 0, 'audio_tokens': 0, 'reasoning_tokens': 0, 'rejected_prediction_tokens': 0}, 'prompt_tokens_details': {'audio_tokens': 0, 'cached_tokens': 0}}, 'model_name': 'gpt-4o-mini-2024-07-18', 'system_fingerprint': 'fp_129a36352a', 'id': 'chatcmpl-BTM8kRi09jnOdVkIsWmKXvnlMdgQM', 'finish_reason': 'stop', 'logprobs': None}, id='run-09fe5672-400e-42a3-a50f-b6dd796f2bf1-0', usage_metadata={'input_tokens': 778, 'output_tokens': 39, 'total_tokens': 817, 'input_token_details': {'audio': 0, 'cache_read': 0}, 'output_token_details': {'audio': 0, 'reasoning': 0}})"
      ]
     },
     "execution_count": 49,
     "metadata": {},
     "output_type": "execute_result"
    }
   ],
   "source": [
    "import datetime\n",
    "\n",
    "from langchain_core.prompts import ChatPromptTemplate\n",
    "from langchain_core.runnables import RunnableConfig, chain\n",
    "\n",
    "\n",
    "today = datetime.datetime.today().strftime(\"%D\")\n",
    "prompt = ChatPromptTemplate(\n",
    "    [\n",
    "        (\"system\", f\"You are a helpful assistant. The date today is {today}.\"),\n",
    "        (\"human\", \"{user_input}\"),\n",
    "        (\"placeholder\", \"{messages}\"),\n",
    "    ]\n",
    ")\n",
    "\n",
    "# specifying tool_choice will force the model to call this tool.\n",
    "llm_with_tools = llm.bind_tools([tool])\n",
    "\n",
    "llm_chain = prompt | llm_with_tools\n",
    "\n",
    "\n",
    "@chain\n",
    "def tool_chain(user_input: str, config: RunnableConfig):\n",
    "    input_ = {\"user_input\": user_input}\n",
    "    ai_msg = llm_chain.invoke(input_, config=config)\n",
    "    tool_msgs = tool.batch(ai_msg.tool_calls, config=config)\n",
    "    return llm_chain.invoke({**input_, \"messages\": [ai_msg, *tool_msgs]}, config=config)\n",
    "\n",
    "\n",
    "tool_chain.invoke(\"오징어게임 2 출시일이 언제야?\")"
   ]
  },
  {
   "cell_type": "code",
   "execution_count": 51,
   "metadata": {},
   "outputs": [
    {
     "data": {
      "text/plain": [
       "AIMessage(content='', additional_kwargs={'tool_calls': [{'id': 'call_JJFEcVi69KKj2ctNPbhL05cY', 'function': {'arguments': '{\"query\":\"오징어게임 2 출시일\"}', 'name': 'tavily_search_results_json'}, 'type': 'function'}], 'refusal': None}, response_metadata={'token_usage': {'completion_tokens': 26, 'prompt_tokens': 108, 'total_tokens': 134, 'completion_tokens_details': {'accepted_prediction_tokens': 0, 'audio_tokens': 0, 'reasoning_tokens': 0, 'rejected_prediction_tokens': 0}, 'prompt_tokens_details': {'audio_tokens': 0, 'cached_tokens': 0}}, 'model_name': 'gpt-4o-mini-2024-07-18', 'system_fingerprint': 'fp_129a36352a', 'id': 'chatcmpl-BTM9lCHzHqDvk61R73aZszN7f5HkX', 'finish_reason': 'tool_calls', 'logprobs': None}, id='run-6f29c0a5-da82-4a26-ab20-696f08dd5e72-0', tool_calls=[{'name': 'tavily_search_results_json', 'args': {'query': '오징어게임 2 출시일'}, 'id': 'call_JJFEcVi69KKj2ctNPbhL05cY', 'type': 'tool_call'}], usage_metadata={'input_tokens': 108, 'output_tokens': 26, 'total_tokens': 134, 'input_token_details': {'audio': 0, 'cache_read': 0}, 'output_token_details': {'audio': 0, 'reasoning': 0}})"
      ]
     },
     "execution_count": 51,
     "metadata": {},
     "output_type": "execute_result"
    }
   ],
   "source": [
    "llm_chain.invoke(\"오징어게임 2 출시일이 언제야?\", config=config)"
   ]
  }
 ],
 "metadata": {
  "kernelspec": {
   "display_name": "ai-agent-W5GxBq27-py3.12",
   "language": "python",
   "name": "python3"
  },
  "language_info": {
   "codemirror_mode": {
    "name": "ipython",
    "version": 3
   },
   "file_extension": ".py",
   "mimetype": "text/x-python",
   "name": "python",
   "nbconvert_exporter": "python",
   "pygments_lexer": "ipython3",
   "version": "3.12.4"
  }
 },
 "nbformat": 4,
 "nbformat_minor": 2
}
