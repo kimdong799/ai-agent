{
 "cells": [
  {
   "cell_type": "markdown",
   "metadata": {},
   "source": [
    "# LangGraph 탄생 배경"
   ]
  },
  {
   "cell_type": "markdown",
   "metadata": {},
   "source": [
    "## RAG 구성 시 마주하게되는 문제점\n",
    "- LLM이 생성한 답변이 Hallucination이 아닐까?\n",
    "- RAG를 적용하여 받은 답변이 문서에 없는 사전지식으로 답변한건 아닐까?\n",
    "- 문서 검색에서 원하는 내용이 없는 경우\n",
    "    - 인터넷 혹은 논문에서 부족한 정보를 검색하여 지식을 보강할 수는 없을까?"
   ]
  },
  {
   "cell_type": "markdown",
   "metadata": {},
   "source": [
    "![이미지 설명](./imgs/스크린샷%202025-06-09%20오후%201.21.48.png)"
   ]
  },
  {
   "cell_type": "markdown",
   "metadata": {},
   "source": [
    "문서 내 답변이 존재하지 않는 경우에 대한 이슈\n",
    "- 삼성전자가 가우스를 만들었다는 내용이 문서에 존재함\n",
    "- 삼성전자에 대한 매출액은 문서에 없어 답변이 불가함"
   ]
  },
  {
   "cell_type": "markdown",
   "metadata": {},
   "source": [
    "![](./imgs/스크린샷%202025-06-09%20오후%201.31.47.png)"
   ]
  },
  {
   "cell_type": "markdown",
   "metadata": {},
   "source": [
    "부족한 정보를 Web 검색을 통해 답변하는 로직을 추가하면?\n",
    "- 문서에 없는 정보도 Web 검색을 통해 답변할 수 있게 Chain을 보강\n",
    "\n",
    "**검색 결과에 잘못된 정보가 포함되어있다면..? 혹은 검색 결과가 없다면..?**\n",
    "- 결국 할루시네이션으로 이어질 수 있다.\n",
    "- 할루시네이션 체커를 둔다..?\n",
    "- 결국 구조 자체가 덕지덕지 체인이 붙는 구조로 갈 수 밖에 없다.\n",
    "- 무한히 제대로된 결과가 안나올 경우 토큰 사용량 폭증\n",
    "- LLM의 일관되지 않은 답변이 마치 나비효과로 이어져 답변 품질저하로 이어짐"
   ]
  },
  {
   "cell_type": "markdown",
   "metadata": {},
   "source": [
    "# Conventional RAG 문제점\n",
    "- 사전에 정의된 데이터 소싱 자원\n",
    "- 사전에 정의된 Fixed Size Chunk\n",
    "- 사전에 정의된 Query 입력\n",
    "- 사전에 정의된 검색 방법\n",
    "- 신뢰하기 어려운 LLM or Agent\n",
    "- 고정된 프롬프트 형식\n",
    "- LLM의 답변 결과에 대한 문서와의 관련성/신뢰성\n",
    "\n",
    "\n",
    "- Document Loader > Answer\n",
    "    - RAG 파이프라인이 단방향 구조이기 때문\n",
    "    - 모든 단계를 한번에 다 잘해야한다.\n",
    "    - 이전 단계로 되돌아가기 어렵다"
   ]
  },
  {
   "cell_type": "markdown",
   "metadata": {},
   "source": [
    "# LangGraph 제안\n",
    "\n",
    "- 각 세부 과정을 노드라고 정의\n",
    "- 이전 노드 > 다음 노드: 엣지 연결\n",
    "- 조건부 엣지를 통해 분기 처리\n",
    "- RAG 파이프라인을 보다 유연하게 설계"
   ]
  },
  {
   "cell_type": "markdown",
   "metadata": {},
   "source": [
    "![](./imgs/스크린샷%202025-06-09%20오후%201.41.57.png)"
   ]
  },
  {
   "cell_type": "markdown",
   "metadata": {},
   "source": [
    "![](./imgs/스크린샷%202025-06-09%20오후%201.43.28.png)"
   ]
  },
  {
   "cell_type": "markdown",
   "metadata": {},
   "source": []
  }
 ],
 "metadata": {
  "language_info": {
   "name": "python"
  }
 },
 "nbformat": 4,
 "nbformat_minor": 2
}
