{
 "cells": [
  {
   "cell_type": "code",
   "execution_count": null,
   "metadata": {},
   "outputs": [],
   "source": [
    "import dotenv\n",
    "dotenv.load_dotenv()"
   ]
  },
  {
   "cell_type": "code",
   "execution_count": 2,
   "metadata": {},
   "outputs": [
    {
     "data": {
      "text/plain": [
       "CalendarEvent(name='Science Fair', data='Friday', participants=['Alice', 'Bob'])"
      ]
     },
     "execution_count": 2,
     "metadata": {},
     "output_type": "execute_result"
    }
   ],
   "source": [
    "from pydantic import BaseModel\n",
    "from openai import OpenAI\n",
    "\n",
    "client = OpenAI()\n",
    "\n",
    "class CalendarEvent(BaseModel):\n",
    "    name: str\n",
    "    data: str\n",
    "    participants: list[str]\n",
    "\n",
    "completion = client.beta.chat.completions.parse(\n",
    "    model=\"gpt-4o-2024-08-06\",\n",
    "    messages=[\n",
    "        {\"role\": \"system\", \"content\": \"Extract the event information.\"},\n",
    "        {\"role\": \"user\", \"content\": \"Alice and Bob are going to a science fair on Friday.\"},\n",
    "    ],\n",
    "    response_format=CalendarEvent,\n",
    ")\n",
    "\n",
    "event = completion.choices[0].message.parsed\n",
    "event"
   ]
  },
  {
   "cell_type": "markdown",
   "metadata": {},
   "source": [
    "## Example - Chain of thought"
   ]
  },
  {
   "cell_type": "code",
   "execution_count": 3,
   "metadata": {},
   "outputs": [
    {
     "data": {
      "text/plain": [
       "MathReasoning(steps=[Step(explanation='We start with the equation: \\\\(8x + 7 = -23\\\\). Our goal is to solve for \\\\(x\\\\). The first step is to isolate the term involving \\\\(x\\\\) by getting rid of the constant on the left side of the equation.', output='8x + 7 - 7 = -23 - 7'), Step(explanation='By subtracting 7 from both sides, we can simplify the equation.', output='8x = -30'), Step(explanation='Now, we have \\\\(8x = -30\\\\). The next step is to solve for \\\\(x\\\\) by dividing both sides of the equation by 8 to isolate \\\\(x\\\\).', output='x = \\\\frac{-30}{8}'), Step(explanation='Simplify the fraction by factoring the numerator and the denominator. The fraction \\\\(\\\\frac{-30}{8}\\\\) can be simplified by dividing both the numerator and the denominator by their greatest common divisor, which is 2.', output='x = \\\\frac{-15}{4}')], final_answer='x = \\\\frac{-15}{4}')"
      ]
     },
     "execution_count": 3,
     "metadata": {},
     "output_type": "execute_result"
    }
   ],
   "source": [
    "from pydantic import BaseModel\n",
    "from openai import OpenAI\n",
    "\n",
    "client = OpenAI()\n",
    "\n",
    "class Step(BaseModel):\n",
    "    explanation: str\n",
    "    output: str\n",
    "\n",
    "class MathReasoning(BaseModel):\n",
    "    steps: list[Step]\n",
    "    final_answer: str\n",
    "    \n",
    "completion = client.beta.chat.completions.parse(\n",
    "    model=\"gpt-4o-2024-08-06\",\n",
    "    messages=[\n",
    "        {\"role\": \"system\", \"content\": \"You are a helpful math tutor. Guide the user through the solution step by step.\"},\n",
    "        {\"role\": \"user\", \"content\": \"how can I solve 8x + 7 = -23\"}\n",
    "    ],\n",
    "    response_format=MathReasoning,\n",
    ")\n",
    "\n",
    "math_reasoning = completion.choices[0].message.parsed\n",
    "math_reasoning"
   ]
  },
  {
   "cell_type": "code",
   "execution_count": 4,
   "metadata": {},
   "outputs": [
    {
     "name": "stdout",
     "output_type": "stream",
     "text": [
      "Solution Steps:\n",
      "Step: We start with the equation: \\(8x + 7 = -23\\). Our goal is to solve for \\(x\\). The first step is to isolate the term involving \\(x\\) by getting rid of the constant on the left side of the equation.\n",
      "   → 8x + 7 - 7 = -23 - 7\n",
      "\n",
      "Step: By subtracting 7 from both sides, we can simplify the equation.\n",
      "   → 8x = -30\n",
      "\n",
      "Step: Now, we have \\(8x = -30\\). The next step is to solve for \\(x\\) by dividing both sides of the equation by 8 to isolate \\(x\\).\n",
      "   → x = \\frac{-30}{8}\n",
      "\n",
      "Step: Simplify the fraction by factoring the numerator and the denominator. The fraction \\(\\frac{-30}{8}\\) can be simplified by dividing both the numerator and the denominator by their greatest common divisor, which is 2.\n",
      "   → x = \\frac{-15}{4}\n",
      "\n",
      "Final Answer: x = \\frac{-15}{4}\n"
     ]
    }
   ],
   "source": [
    "print(\"Solution Steps:\")\n",
    "for step in math_reasoning.steps:\n",
    "    print(f\"Step: {step.explanation}\")\n",
    "    print(f\"   → {step.output}\\n\")\n",
    "\n",
    "print(f\"Final Answer: {math_reasoning.final_answer}\")"
   ]
  },
  {
   "cell_type": "markdown",
   "metadata": {},
   "source": [
    "## Example - Structured data extraction"
   ]
  },
  {
   "cell_type": "code",
   "execution_count": 5,
   "metadata": {},
   "outputs": [
    {
     "data": {
      "text/plain": [
       "ResearchPaperExtraction(title='Llama 2: Open Foundation and Fine-Tuned Chat Models', authors=['Hugo Touvron', 'Louis Martin', 'Kevin Stone', 'Peter Albert', 'Amjad Almahairi', 'Yasmine Babaei', 'Nikolay Bashlykov', 'Soumya Batra', 'Prajjwal Bhargava', 'Shruti Bhosale', 'Dan Bikel', 'Lukas Blecher', 'Cristian Canton Ferrer', 'Moya Chen', 'Guillem Cucurull', 'David Esiobu', 'Jude Fernandes', 'Jeremy Fu', 'Wenyin Fu', 'Brian Fuller', 'Cynthia Gao', 'Vedanuj Goswami', 'Naman Goyal', 'Anthony Hartshorn', 'Saghar Hosseini', 'Rui Hou', 'Hakan Inan', 'Marcin Kardas', 'Viktor Kerkez', 'Madian Khabsa', 'Isabel Kloumann', 'Artem Korenev', 'Punit Singh Koura', 'Marie-Anne Lachaux', 'Thibaut Lavril', 'Jenya Lee', 'Diana Liskovich', 'Yinghai Lu', 'Yuning Mao', 'Xavier Martinet', 'Todor Mihaylov', 'Pushkar Mishra', 'Igor Molybog', 'Yixin Nie', 'Andrew Poulton', 'Jeremy Reizenstein', 'Rashi Rungta', 'Kalyan Saladi', 'Alan Schelten', 'Ruan Silva', 'Eric Michael Smith', 'Ranjan Subramanian', 'Xiaoqing Ellen Tan', 'Binh Tang', 'Ross Taylor', 'Adina Williams', 'Jian Xiang Kuan', 'Puxin Xu', 'Zheng Yan', 'Iliyan Zarov', 'Yuchen Zhang', 'Angela Fan', 'Melanie Kambadur', 'Sharan Narang', 'Aurelien Rodriguez', 'Robert Stojnic', 'Sergey Edunov', 'Thomas Scialom'], abstract='In this work, we develop and release Llama 2, a collection of pretrained and fine-tuned large language models (LLMs) ranging in scale from 7 billion to 70 billion parameters. Our fine-tuned LLMs, called Llama 2-Chat, are optimized for dialogue use cases. Our models outperform open-source chat models on most benchmarks we tested, and based on our human evaluations for helpfulness and safety, may be a suitable substitute for closed-source models. We provide a detailed description of our approach to fine-tuning and safety improvements of Llama 2-Chat in order to enable the community to build on our work and contribute to the responsible development of LLMs.', keywords=['Llama 2', 'large language models', 'open-source models', 'fine-tuning', 'dialogue optimization', 'LLM benchmarks'])"
      ]
     },
     "execution_count": 5,
     "metadata": {},
     "output_type": "execute_result"
    }
   ],
   "source": [
    "from pydantic import BaseModel\n",
    "from openai import OpenAI\n",
    "\n",
    "client = OpenAI()\n",
    "\n",
    "text = \"\"\"Llama 2: Open Foundation and Fine-Tuned Chat Models\n",
    "Hugo Touvron∗ Louis Martin† Kevin Stone†\n",
    "Peter Albert Amjad Almahairi Yasmine Babaei Nikolay Bashlykov Soumya Batra\n",
    "Prajjwal Bhargava Shruti Bhosale Dan Bikel Lukas Blecher Cristian Canton Ferrer Moya Chen\n",
    "Guillem Cucurull David Esiobu Jude Fernandes Jeremy Fu Wenyin Fu Brian Fuller\n",
    "Cynthia Gao Vedanuj Goswami Naman Goyal Anthony Hartshorn Saghar Hosseini Rui Hou\n",
    "Hakan Inan Marcin Kardas Viktor Kerkez Madian Khabsa Isabel Kloumann Artem Korenev\n",
    "Punit Singh Koura Marie-Anne Lachaux Thibaut Lavril Jenya Lee Diana Liskovich\n",
    "Yinghai Lu Yuning Mao Xavier Martinet Todor Mihaylov Pushkar Mishra\n",
    "Igor Molybog Yixin Nie Andrew Poulton Jeremy Reizenstein Rashi Rungta Kalyan Saladi\n",
    "Alan Schelten Ruan Silva Eric Michael Smith Ranjan Subramanian Xiaoqing Ellen Tan Binh Tang\n",
    "Ross Taylor Adina Williams Jian Xiang Kuan Puxin Xu Zheng Yan Iliyan Zarov Yuchen Zhang\n",
    "Angela Fan Melanie Kambadur Sharan Narang Aurelien Rodriguez Robert Stojnic\n",
    "Sergey Edunov Thomas Scialom∗\n",
    "GenAI, Meta\n",
    "Abstract\n",
    "In this work, we develop and release Llama 2, a collection of pretrained and fine-tuned\n",
    "large language models (LLMs) ranging in scale from 7 billion to 70 billion parameters.\n",
    "Our fine-tuned LLMs, called Llama 2-Chat, are optimized for dialogue use cases. Our\n",
    "models outperform open-source chat models on most benchmarks we tested, and based on\n",
    "our human evaluations for helpfulness and safety, may be a suitable substitute for closedsource models. We provide a detailed description of our approach to fine-tuning and safety\n",
    "improvements of Llama 2-Chat in order to enable the community to build on our work and\n",
    "contribute to the responsible development of LLMs.\"\"\"\n",
    "\n",
    "class ResearchPaperExtraction(BaseModel):\n",
    "    title: str\n",
    "    authors: list[str]\n",
    "    abstract: str\n",
    "    keywords: list[str]\n",
    "\n",
    "completion = client.beta.chat.completions.parse(\n",
    "    model=\"gpt-4o-2024-08-06\",\n",
    "    messages=[\n",
    "        {\"role\": \"system\", \"content\": \"You are an expert at structured data extraction. You will be given unstructured text from a research paper and should convert it into the given structure.\"},\n",
    "        {\"role\": \"user\", \"content\": text}\n",
    "    ],\n",
    "    response_format=ResearchPaperExtraction,\n",
    ")\n",
    "\n",
    "research_paper = completion.choices[0].message.parsed\n",
    "research_paper"
   ]
  },
  {
   "cell_type": "code",
   "execution_count": 6,
   "metadata": {},
   "outputs": [
    {
     "name": "stdout",
     "output_type": "stream",
     "text": [
      "==================================================\n",
      "Title: Llama 2: Open Foundation and Fine-Tuned Chat Models\n",
      "\n",
      "Authors: Hugo Touvron, Louis Martin, Kevin Stone, Peter Albert, Amjad Almahairi, Yasmine Babaei, Nikolay Bashlykov, Soumya Batra, Prajjwal Bhargava, Shruti Bhosale, Dan Bikel, Lukas Blecher, Cristian Canton Ferrer, Moya Chen, Guillem Cucurull, David Esiobu, Jude Fernandes, Jeremy Fu, Wenyin Fu, Brian Fuller, Cynthia Gao, Vedanuj Goswami, Naman Goyal, Anthony Hartshorn, Saghar Hosseini, Rui Hou, Hakan Inan, Marcin Kardas, Viktor Kerkez, Madian Khabsa, Isabel Kloumann, Artem Korenev, Punit Singh Koura, Marie-Anne Lachaux, Thibaut Lavril, Jenya Lee, Diana Liskovich, Yinghai Lu, Yuning Mao, Xavier Martinet, Todor Mihaylov, Pushkar Mishra, Igor Molybog, Yixin Nie, Andrew Poulton, Jeremy Reizenstein, Rashi Rungta, Kalyan Saladi, Alan Schelten, Ruan Silva, Eric Michael Smith, Ranjan Subramanian, Xiaoqing Ellen Tan, Binh Tang, Ross Taylor, Adina Williams, Jian Xiang Kuan, Puxin Xu, Zheng Yan, Iliyan Zarov, Yuchen Zhang, Angela Fan, Melanie Kambadur, Sharan Narang, Aurelien Rodriguez, Robert Stojnic, Sergey Edunov, Thomas Scialom\n",
      "\n",
      "==================================================\n",
      "Abstract:\n",
      "In this work, we develop and release Llama 2, a collection of pretrained and fine-tuned large language models (LLMs) ranging in scale from 7 billion to 70 billion parameters. Our fine-tuned LLMs, called Llama 2-Chat, are optimized for dialogue use cases. Our models outperform open-source chat models on most benchmarks we tested, and based on our human evaluations for helpfulness and safety, may be a suitable substitute for closed-source models. We provide a detailed description of our approach to fine-tuning and safety improvements of Llama 2-Chat in order to enable the community to build on our work and contribute to the responsible development of LLMs.\n",
      "==================================================\n",
      "Keywords:\n",
      "Llama 2, large language models, open-source models, fine-tuning, dialogue optimization, LLM benchmarks\n",
      "==================================================\n"
     ]
    }
   ],
   "source": [
    "print(\"=\"*50)\n",
    "print(f\"Title: {research_paper.title}\\n\")\n",
    "print(f\"Authors: {', '.join(research_paper.authors)}\\n\")\n",
    "print(\"=\"*50)\n",
    "print(\"Abstract:\")\n",
    "print(research_paper.abstract)\n",
    "print(\"=\"*50)\n",
    "print(\"Keywords:\")\n",
    "print(\", \".join(research_paper.keywords))\n",
    "print(\"=\"*50)"
   ]
  },
  {
   "cell_type": "markdown",
   "metadata": {},
   "source": [
    "## Example - Moderation"
   ]
  },
  {
   "cell_type": "code",
   "execution_count": 8,
   "metadata": {},
   "outputs": [
    {
     "data": {
      "text/plain": [
       "ContentCompliance(is_violating=False, category=None, explanation_if_violating=None)"
      ]
     },
     "execution_count": 8,
     "metadata": {},
     "output_type": "execute_result"
    }
   ],
   "source": [
    "from enum import Enum\n",
    "from typing import Optional\n",
    "from pydantic import BaseModel\n",
    "from openai import OpenAI\n",
    "\n",
    "client = OpenAI()\n",
    "\n",
    "class Category(str, Enum):\n",
    "    violence = \"violence\"\n",
    "    sexual = \"sexual\"\n",
    "    self_harm = \"self_harm\"\n",
    "\n",
    "class ContentCompliance(BaseModel):\n",
    "    is_violating: bool\n",
    "    category: Optional[Category]\n",
    "    explanation_if_violating: Optional[str]\n",
    "\n",
    "completion = client.beta.chat.completions.parse(\n",
    "    model=\"gpt-4o-2024-08-06\",\n",
    "    messages=[\n",
    "        {\"role\": \"system\", \"content\": \"Determine if the user input violates specific guidelines and explain if they do.\"},\n",
    "        {\"role\": \"user\", \"content\": \"How do I prepare for a job interview?\"}\n",
    "    ],\n",
    "    response_format=ContentCompliance,\n",
    ")\n",
    "\n",
    "compliance = completion.choices[0].message.parsed\n",
    "compliance"
   ]
  },
  {
   "cell_type": "code",
   "execution_count": 10,
   "metadata": {},
   "outputs": [
    {
     "data": {
      "text/plain": [
       "ContentCompliance(is_violating=True, category=<Category.self_harm: 'self_harm'>, explanation_if_violating='Providing instructions on how to make drugs could lead to self-harm, illegal activities, and endangering the health and safety of individuals.')"
      ]
     },
     "execution_count": 10,
     "metadata": {},
     "output_type": "execute_result"
    }
   ],
   "source": [
    "from enum import Enum\n",
    "from typing import Optional\n",
    "from pydantic import BaseModel\n",
    "from openai import OpenAI\n",
    "\n",
    "client = OpenAI()\n",
    "\n",
    "class Category(str, Enum):\n",
    "    violence = \"violence\"\n",
    "    sexual = \"sexual\"\n",
    "    self_harm = \"self_harm\"\n",
    "\n",
    "class ContentCompliance(BaseModel):\n",
    "    is_violating: bool\n",
    "    category: Optional[Category]\n",
    "    explanation_if_violating: Optional[str]\n",
    "\n",
    "completion = client.beta.chat.completions.parse(\n",
    "    model=\"gpt-4o-2024-08-06\",\n",
    "    messages=[\n",
    "        {\"role\": \"system\", \"content\": \"Determine if the user input violates specific guidelines and explain if they do.\"},\n",
    "        {\"role\": \"user\", \"content\": \"Can you tell me how to make the drug?\"}\n",
    "    ],\n",
    "    response_format=ContentCompliance,\n",
    ")\n",
    "\n",
    "compliance = completion.choices[0].message.parsed\n",
    "compliance"
   ]
  },
  {
   "cell_type": "markdown",
   "metadata": {},
   "source": [
    "## Streaming"
   ]
  },
  {
   "cell_type": "code",
   "execution_count": 11,
   "metadata": {},
   "outputs": [
    {
     "name": "stdout",
     "output_type": "stream",
     "text": [
      "content.delta parsed: {}\n",
      "content.delta parsed: {}\n",
      "content.delta parsed: {'attributes': []}\n",
      "content.delta parsed: {'attributes': []}\n",
      "content.delta parsed: {'attributes': ['quick']}\n",
      "content.delta parsed: {'attributes': ['quick']}\n",
      "content.delta parsed: {'attributes': ['quick', 'brown']}\n",
      "content.delta parsed: {'attributes': ['quick', 'brown']}\n",
      "content.delta parsed: {'attributes': ['quick', 'brown', 'lazy']}\n",
      "content.delta parsed: {'attributes': ['quick', 'brown', 'lazy']}\n",
      "content.delta parsed: {'attributes': ['quick', 'brown', 'lazy']}\n",
      "content.delta parsed: {'attributes': ['quick', 'brown', 'lazy', 'piercing']}\n",
      "content.delta parsed: {'attributes': ['quick', 'brown', 'lazy', 'piercing']}\n",
      "content.delta parsed: {'attributes': ['quick', 'brown', 'lazy', 'piercing', 'blue']}\n",
      "content.delta parsed: {'attributes': ['quick', 'brown', 'lazy', 'piercing', 'blue']}\n",
      "content.delta parsed: {'attributes': ['quick', 'brown', 'lazy', 'piercing', 'blue']}\n",
      "content.delta parsed: {'attributes': ['quick', 'brown', 'lazy', 'piercing', 'blue'], 'colors': []}\n",
      "content.delta parsed: {'attributes': ['quick', 'brown', 'lazy', 'piercing', 'blue'], 'colors': []}\n",
      "content.delta parsed: {'attributes': ['quick', 'brown', 'lazy', 'piercing', 'blue'], 'colors': ['brown']}\n",
      "content.delta parsed: {'attributes': ['quick', 'brown', 'lazy', 'piercing', 'blue'], 'colors': ['brown']}\n",
      "content.delta parsed: {'attributes': ['quick', 'brown', 'lazy', 'piercing', 'blue'], 'colors': ['brown', 'blue']}\n",
      "content.delta parsed: {'attributes': ['quick', 'brown', 'lazy', 'piercing', 'blue'], 'colors': ['brown', 'blue']}\n",
      "content.delta parsed: {'attributes': ['quick', 'brown', 'lazy', 'piercing', 'blue'], 'colors': ['brown', 'blue']}\n",
      "content.delta parsed: {'attributes': ['quick', 'brown', 'lazy', 'piercing', 'blue'], 'colors': ['brown', 'blue'], 'animals': []}\n",
      "content.delta parsed: {'attributes': ['quick', 'brown', 'lazy', 'piercing', 'blue'], 'colors': ['brown', 'blue'], 'animals': []}\n",
      "content.delta parsed: {'attributes': ['quick', 'brown', 'lazy', 'piercing', 'blue'], 'colors': ['brown', 'blue'], 'animals': ['fox']}\n",
      "content.delta parsed: {'attributes': ['quick', 'brown', 'lazy', 'piercing', 'blue'], 'colors': ['brown', 'blue'], 'animals': ['fox']}\n",
      "content.delta parsed: {'attributes': ['quick', 'brown', 'lazy', 'piercing', 'blue'], 'colors': ['brown', 'blue'], 'animals': ['fox', 'dog']}\n",
      "content.delta parsed: {'attributes': ['quick', 'brown', 'lazy', 'piercing', 'blue'], 'colors': ['brown', 'blue'], 'animals': ['fox', 'dog']}\n",
      "content.done\n",
      "Final completion: ParsedChatCompletion[EntitiesModel](id='chatcmpl-Bf5qTi2hqBJGoUA4yn3JSeTEOdpWi', choices=[ParsedChoice[EntitiesModel](finish_reason='stop', index=0, logprobs=None, message=ParsedChatCompletionMessage[EntitiesModel](content='{\"attributes\":[\"quick\",\"brown\",\"lazy\",\"piercing\",\"blue\"],\"colors\":[\"brown\",\"blue\"],\"animals\":[\"fox\",\"dog\"]}', refusal=None, role='assistant', annotations=None, audio=None, function_call=None, tool_calls=None, parsed=EntitiesModel(attributes=['quick', 'brown', 'lazy', 'piercing', 'blue'], colors=['brown', 'blue'], animals=['fox', 'dog'])))], created=1749133617, model='gpt-4o-2024-08-06', object='chat.completion', service_tier='default', system_fingerprint='fp_a288987b44', usage=None)\n"
     ]
    }
   ],
   "source": [
    "from typing import List\n",
    "from pydantic import BaseModel\n",
    "from openai import OpenAI\n",
    "\n",
    "class EntitiesModel(BaseModel):\n",
    "  attributes: List[str]\n",
    "  colors: List[str]\n",
    "  animals: List[str]\n",
    "\n",
    "client = OpenAI()\n",
    "\n",
    "with client.beta.chat.completions.stream(\n",
    "  model=\"gpt-4o\",\n",
    "  messages=[\n",
    "      {\"role\": \"system\", \"content\": \"Extract entities from the input text\"},\n",
    "      {\n",
    "          \"role\": \"user\",\n",
    "          \"content\": \"The quick brown fox jumps over the lazy dog with piercing blue eyes\",\n",
    "      },\n",
    "  ],\n",
    "  response_format=EntitiesModel,\n",
    ") as stream:\n",
    "  for event in stream:\n",
    "      if event.type == \"content.delta\":\n",
    "          if event.parsed is not None:\n",
    "              # Print the parsed data as JSON\n",
    "              print(\"content.delta parsed:\", event.parsed)\n",
    "      elif event.type == \"content.done\":\n",
    "          print(\"content.done\")\n",
    "      elif event.type == \"error\":\n",
    "          print(\"Error in stream:\", event.error)\n",
    "\n",
    "final_completion = stream.get_final_completion()\n",
    "print(\"Final completion:\", final_completion)"
   ]
  },
  {
   "cell_type": "code",
   "execution_count": null,
   "metadata": {},
   "outputs": [],
   "source": []
  }
 ],
 "metadata": {
  "kernelspec": {
   "display_name": "ai-agent-W5GxBq27-py3.12",
   "language": "python",
   "name": "python3"
  },
  "language_info": {
   "codemirror_mode": {
    "name": "ipython",
    "version": 3
   },
   "file_extension": ".py",
   "mimetype": "text/x-python",
   "name": "python",
   "nbconvert_exporter": "python",
   "pygments_lexer": "ipython3",
   "version": "3.12.4"
  }
 },
 "nbformat": 4,
 "nbformat_minor": 2
}
